{
 "cells": [
  {
   "cell_type": "code",
   "execution_count": 1,
   "metadata": {},
   "outputs": [],
   "source": [
    "import pandas as pd\n",
    "import numpy as np\n",
    "import matplotlib.pyplot as plt\n",
    "import seaborn as sns\n",
    "\n",
    "%matplotlib inline"
   ]
  },
  {
   "cell_type": "code",
   "execution_count": 2,
   "metadata": {},
   "outputs": [],
   "source": [
    "import warnings\n",
    "warnings.filterwarnings('ignore')"
   ]
  },
  {
   "cell_type": "markdown",
   "metadata": {},
   "source": [
    "### Import Data"
   ]
  },
  {
   "cell_type": "code",
   "execution_count": 3,
   "metadata": {},
   "outputs": [
    {
     "data": {
      "text/html": [
       "<div>\n",
       "<style scoped>\n",
       "    .dataframe tbody tr th:only-of-type {\n",
       "        vertical-align: middle;\n",
       "    }\n",
       "\n",
       "    .dataframe tbody tr th {\n",
       "        vertical-align: top;\n",
       "    }\n",
       "\n",
       "    .dataframe thead th {\n",
       "        text-align: right;\n",
       "    }\n",
       "</style>\n",
       "<table border=\"1\" class=\"dataframe\">\n",
       "  <thead>\n",
       "    <tr style=\"text-align: right;\">\n",
       "      <th></th>\n",
       "      <th>fuelType</th>\n",
       "      <th>rating</th>\n",
       "      <th>renterTripsTaken</th>\n",
       "      <th>reviewCount</th>\n",
       "      <th>location.city</th>\n",
       "      <th>location.country</th>\n",
       "      <th>location.latitude</th>\n",
       "      <th>location.longitude</th>\n",
       "      <th>location.state</th>\n",
       "      <th>owner.id</th>\n",
       "      <th>rate.daily</th>\n",
       "      <th>vehicle.make</th>\n",
       "      <th>vehicle.model</th>\n",
       "      <th>vehicle.type</th>\n",
       "      <th>vehicle.year</th>\n",
       "    </tr>\n",
       "  </thead>\n",
       "  <tbody>\n",
       "    <tr>\n",
       "      <th>0</th>\n",
       "      <td>ELECTRIC</td>\n",
       "      <td>5.00</td>\n",
       "      <td>13</td>\n",
       "      <td>12</td>\n",
       "      <td>Seattle</td>\n",
       "      <td>US</td>\n",
       "      <td>47.449107</td>\n",
       "      <td>-122.308841</td>\n",
       "      <td>WA</td>\n",
       "      <td>12847615</td>\n",
       "      <td>135</td>\n",
       "      <td>Tesla</td>\n",
       "      <td>Model X</td>\n",
       "      <td>suv</td>\n",
       "      <td>2019</td>\n",
       "    </tr>\n",
       "    <tr>\n",
       "      <th>1</th>\n",
       "      <td>ELECTRIC</td>\n",
       "      <td>5.00</td>\n",
       "      <td>2</td>\n",
       "      <td>1</td>\n",
       "      <td>Tijeras</td>\n",
       "      <td>US</td>\n",
       "      <td>35.111060</td>\n",
       "      <td>-106.276551</td>\n",
       "      <td>NM</td>\n",
       "      <td>15621242</td>\n",
       "      <td>190</td>\n",
       "      <td>Tesla</td>\n",
       "      <td>Model X</td>\n",
       "      <td>suv</td>\n",
       "      <td>2018</td>\n",
       "    </tr>\n",
       "    <tr>\n",
       "      <th>2</th>\n",
       "      <td>HYBRID</td>\n",
       "      <td>4.92</td>\n",
       "      <td>28</td>\n",
       "      <td>24</td>\n",
       "      <td>Albuquerque</td>\n",
       "      <td>US</td>\n",
       "      <td>35.127163</td>\n",
       "      <td>-106.566681</td>\n",
       "      <td>NM</td>\n",
       "      <td>10199256</td>\n",
       "      <td>35</td>\n",
       "      <td>Toyota</td>\n",
       "      <td>Prius</td>\n",
       "      <td>car</td>\n",
       "      <td>2012</td>\n",
       "    </tr>\n",
       "    <tr>\n",
       "      <th>3</th>\n",
       "      <td>GASOLINE</td>\n",
       "      <td>5.00</td>\n",
       "      <td>21</td>\n",
       "      <td>20</td>\n",
       "      <td>Albuquerque</td>\n",
       "      <td>US</td>\n",
       "      <td>35.149726</td>\n",
       "      <td>-106.711425</td>\n",
       "      <td>NM</td>\n",
       "      <td>9365496</td>\n",
       "      <td>75</td>\n",
       "      <td>Ford</td>\n",
       "      <td>Mustang</td>\n",
       "      <td>car</td>\n",
       "      <td>2018</td>\n",
       "    </tr>\n",
       "    <tr>\n",
       "      <th>4</th>\n",
       "      <td>GASOLINE</td>\n",
       "      <td>5.00</td>\n",
       "      <td>3</td>\n",
       "      <td>1</td>\n",
       "      <td>Albuquerque</td>\n",
       "      <td>US</td>\n",
       "      <td>35.208659</td>\n",
       "      <td>-106.601008</td>\n",
       "      <td>NM</td>\n",
       "      <td>3553565</td>\n",
       "      <td>47</td>\n",
       "      <td>Chrysler</td>\n",
       "      <td>Sebring</td>\n",
       "      <td>car</td>\n",
       "      <td>2010</td>\n",
       "    </tr>\n",
       "  </tbody>\n",
       "</table>\n",
       "</div>"
      ],
      "text/plain": [
       "   fuelType  rating  renterTripsTaken  reviewCount location.city  \\\n",
       "0  ELECTRIC    5.00                13           12       Seattle   \n",
       "1  ELECTRIC    5.00                 2            1       Tijeras   \n",
       "2    HYBRID    4.92                28           24   Albuquerque   \n",
       "3  GASOLINE    5.00                21           20   Albuquerque   \n",
       "4  GASOLINE    5.00                 3            1   Albuquerque   \n",
       "\n",
       "  location.country  location.latitude  location.longitude location.state  \\\n",
       "0               US          47.449107         -122.308841             WA   \n",
       "1               US          35.111060         -106.276551             NM   \n",
       "2               US          35.127163         -106.566681             NM   \n",
       "3               US          35.149726         -106.711425             NM   \n",
       "4               US          35.208659         -106.601008             NM   \n",
       "\n",
       "   owner.id  rate.daily vehicle.make vehicle.model vehicle.type  vehicle.year  \n",
       "0  12847615         135        Tesla       Model X          suv          2019  \n",
       "1  15621242         190        Tesla       Model X          suv          2018  \n",
       "2  10199256          35       Toyota         Prius          car          2012  \n",
       "3   9365496          75         Ford       Mustang          car          2018  \n",
       "4   3553565          47     Chrysler       Sebring          car          2010  "
      ]
     },
     "execution_count": 3,
     "metadata": {},
     "output_type": "execute_result"
    }
   ],
   "source": [
    "df = pd.read_csv('2.csv')\n",
    "df.head()"
   ]
  },
  {
   "cell_type": "code",
   "execution_count": 4,
   "metadata": {},
   "outputs": [
    {
     "name": "stdout",
     "output_type": "stream",
     "text": [
      "<class 'pandas.core.frame.DataFrame'>\n",
      "RangeIndex: 5851 entries, 0 to 5850\n",
      "Data columns (total 15 columns):\n",
      " #   Column              Non-Null Count  Dtype  \n",
      "---  ------              --------------  -----  \n",
      " 0   fuelType            5776 non-null   object \n",
      " 1   rating              5350 non-null   float64\n",
      " 2   renterTripsTaken    5851 non-null   int64  \n",
      " 3   reviewCount         5851 non-null   int64  \n",
      " 4   location.city       5851 non-null   object \n",
      " 5   location.country    5851 non-null   object \n",
      " 6   location.latitude   5851 non-null   float64\n",
      " 7   location.longitude  5851 non-null   float64\n",
      " 8   location.state      5851 non-null   object \n",
      " 9   owner.id            5851 non-null   int64  \n",
      " 10  rate.daily          5851 non-null   int64  \n",
      " 11  vehicle.make        5851 non-null   object \n",
      " 12  vehicle.model       5851 non-null   object \n",
      " 13  vehicle.type        5851 non-null   object \n",
      " 14  vehicle.year        5851 non-null   int64  \n",
      "dtypes: float64(3), int64(5), object(7)\n",
      "memory usage: 685.8+ KB\n"
     ]
    }
   ],
   "source": [
    "df.info()"
   ]
  },
  {
   "cell_type": "code",
   "execution_count": 5,
   "metadata": {},
   "outputs": [
    {
     "data": {
      "text/html": [
       "<div>\n",
       "<style scoped>\n",
       "    .dataframe tbody tr th:only-of-type {\n",
       "        vertical-align: middle;\n",
       "    }\n",
       "\n",
       "    .dataframe tbody tr th {\n",
       "        vertical-align: top;\n",
       "    }\n",
       "\n",
       "    .dataframe thead th {\n",
       "        text-align: right;\n",
       "    }\n",
       "</style>\n",
       "<table border=\"1\" class=\"dataframe\">\n",
       "  <thead>\n",
       "    <tr style=\"text-align: right;\">\n",
       "      <th></th>\n",
       "      <th>rating</th>\n",
       "      <th>renterTripsTaken</th>\n",
       "      <th>reviewCount</th>\n",
       "      <th>location.latitude</th>\n",
       "      <th>location.longitude</th>\n",
       "      <th>owner.id</th>\n",
       "      <th>rate.daily</th>\n",
       "      <th>vehicle.year</th>\n",
       "    </tr>\n",
       "  </thead>\n",
       "  <tbody>\n",
       "    <tr>\n",
       "      <th>count</th>\n",
       "      <td>5350.000000</td>\n",
       "      <td>5851.000000</td>\n",
       "      <td>5851.000000</td>\n",
       "      <td>5851.000000</td>\n",
       "      <td>5851.000000</td>\n",
       "      <td>5.851000e+03</td>\n",
       "      <td>5851.000000</td>\n",
       "      <td>5851.000000</td>\n",
       "    </tr>\n",
       "    <tr>\n",
       "      <th>mean</th>\n",
       "      <td>4.920325</td>\n",
       "      <td>33.477354</td>\n",
       "      <td>28.454794</td>\n",
       "      <td>35.582889</td>\n",
       "      <td>-99.632773</td>\n",
       "      <td>6.034830e+06</td>\n",
       "      <td>93.691506</td>\n",
       "      <td>2015.340113</td>\n",
       "    </tr>\n",
       "    <tr>\n",
       "      <th>std</th>\n",
       "      <td>0.182425</td>\n",
       "      <td>41.898954</td>\n",
       "      <td>35.136113</td>\n",
       "      <td>6.431408</td>\n",
       "      <td>20.391476</td>\n",
       "      <td>4.646022e+06</td>\n",
       "      <td>96.080920</td>\n",
       "      <td>4.050813</td>\n",
       "    </tr>\n",
       "    <tr>\n",
       "      <th>min</th>\n",
       "      <td>1.000000</td>\n",
       "      <td>0.000000</td>\n",
       "      <td>0.000000</td>\n",
       "      <td>21.272565</td>\n",
       "      <td>-158.165693</td>\n",
       "      <td>5.105000e+03</td>\n",
       "      <td>20.000000</td>\n",
       "      <td>1955.000000</td>\n",
       "    </tr>\n",
       "    <tr>\n",
       "      <th>25%</th>\n",
       "      <td>4.900000</td>\n",
       "      <td>5.000000</td>\n",
       "      <td>4.000000</td>\n",
       "      <td>30.453623</td>\n",
       "      <td>-117.158285</td>\n",
       "      <td>1.917451e+06</td>\n",
       "      <td>45.000000</td>\n",
       "      <td>2014.000000</td>\n",
       "    </tr>\n",
       "    <tr>\n",
       "      <th>50%</th>\n",
       "      <td>5.000000</td>\n",
       "      <td>18.000000</td>\n",
       "      <td>16.000000</td>\n",
       "      <td>35.554502</td>\n",
       "      <td>-95.673319</td>\n",
       "      <td>4.968749e+06</td>\n",
       "      <td>69.000000</td>\n",
       "      <td>2016.000000</td>\n",
       "    </tr>\n",
       "    <tr>\n",
       "      <th>75%</th>\n",
       "      <td>5.000000</td>\n",
       "      <td>46.000000</td>\n",
       "      <td>39.000000</td>\n",
       "      <td>39.996864</td>\n",
       "      <td>-81.538631</td>\n",
       "      <td>9.657496e+06</td>\n",
       "      <td>110.000000</td>\n",
       "      <td>2018.000000</td>\n",
       "    </tr>\n",
       "    <tr>\n",
       "      <th>max</th>\n",
       "      <td>5.000000</td>\n",
       "      <td>395.000000</td>\n",
       "      <td>321.000000</td>\n",
       "      <td>64.893610</td>\n",
       "      <td>-68.823637</td>\n",
       "      <td>1.581088e+07</td>\n",
       "      <td>1500.000000</td>\n",
       "      <td>2020.000000</td>\n",
       "    </tr>\n",
       "  </tbody>\n",
       "</table>\n",
       "</div>"
      ],
      "text/plain": [
       "            rating  renterTripsTaken  reviewCount  location.latitude  \\\n",
       "count  5350.000000       5851.000000  5851.000000        5851.000000   \n",
       "mean      4.920325         33.477354    28.454794          35.582889   \n",
       "std       0.182425         41.898954    35.136113           6.431408   \n",
       "min       1.000000          0.000000     0.000000          21.272565   \n",
       "25%       4.900000          5.000000     4.000000          30.453623   \n",
       "50%       5.000000         18.000000    16.000000          35.554502   \n",
       "75%       5.000000         46.000000    39.000000          39.996864   \n",
       "max       5.000000        395.000000   321.000000          64.893610   \n",
       "\n",
       "       location.longitude      owner.id   rate.daily  vehicle.year  \n",
       "count         5851.000000  5.851000e+03  5851.000000   5851.000000  \n",
       "mean           -99.632773  6.034830e+06    93.691506   2015.340113  \n",
       "std             20.391476  4.646022e+06    96.080920      4.050813  \n",
       "min           -158.165693  5.105000e+03    20.000000   1955.000000  \n",
       "25%           -117.158285  1.917451e+06    45.000000   2014.000000  \n",
       "50%            -95.673319  4.968749e+06    69.000000   2016.000000  \n",
       "75%            -81.538631  9.657496e+06   110.000000   2018.000000  \n",
       "max            -68.823637  1.581088e+07  1500.000000   2020.000000  "
      ]
     },
     "execution_count": 5,
     "metadata": {},
     "output_type": "execute_result"
    }
   ],
   "source": [
    "df.describe()"
   ]
  },
  {
   "cell_type": "code",
   "execution_count": 6,
   "metadata": {},
   "outputs": [
    {
     "data": {
      "text/plain": [
       "fuelType               75\n",
       "rating                501\n",
       "renterTripsTaken        0\n",
       "reviewCount             0\n",
       "location.city           0\n",
       "location.country        0\n",
       "location.latitude       0\n",
       "location.longitude      0\n",
       "location.state          0\n",
       "owner.id                0\n",
       "rate.daily              0\n",
       "vehicle.make            0\n",
       "vehicle.model           0\n",
       "vehicle.type            0\n",
       "vehicle.year            0\n",
       "dtype: int64"
      ]
     },
     "execution_count": 6,
     "metadata": {},
     "output_type": "execute_result"
    }
   ],
   "source": [
    "df.isna().sum()"
   ]
  },
  {
   "cell_type": "code",
   "execution_count": 9,
   "metadata": {},
   "outputs": [
    {
     "data": {
      "text/plain": [
       "fuelType              5286\n",
       "rating                5286\n",
       "renterTripsTaken      5286\n",
       "reviewCount           5286\n",
       "location.city         5286\n",
       "location.country      5286\n",
       "location.latitude     5286\n",
       "location.longitude    5286\n",
       "location.state        5286\n",
       "owner.id              5286\n",
       "rate.daily            5286\n",
       "vehicle.make          5286\n",
       "vehicle.model         5286\n",
       "vehicle.type          5286\n",
       "vehicle.year          5286\n",
       "dtype: int64"
      ]
     },
     "execution_count": 9,
     "metadata": {},
     "output_type": "execute_result"
    }
   ],
   "source": [
    "dfb.count()"
   ]
  },
  {
   "cell_type": "markdown",
   "metadata": {},
   "source": [
    "### Heandling na"
   ]
  },
  {
   "cell_type": "code",
   "execution_count": 10,
   "metadata": {},
   "outputs": [],
   "source": [
    "dfb=df.dropna()"
   ]
  },
  {
   "cell_type": "code",
   "execution_count": 11,
   "metadata": {},
   "outputs": [
    {
     "data": {
      "text/plain": [
       "fuelType              0\n",
       "rating                0\n",
       "renterTripsTaken      0\n",
       "reviewCount           0\n",
       "location.city         0\n",
       "location.country      0\n",
       "location.latitude     0\n",
       "location.longitude    0\n",
       "location.state        0\n",
       "owner.id              0\n",
       "rate.daily            0\n",
       "vehicle.make          0\n",
       "vehicle.model         0\n",
       "vehicle.type          0\n",
       "vehicle.year          0\n",
       "dtype: int64"
      ]
     },
     "execution_count": 11,
     "metadata": {},
     "output_type": "execute_result"
    }
   ],
   "source": [
    "dfb.isna().sum()"
   ]
  },
  {
   "cell_type": "markdown",
   "metadata": {},
   "source": [
    "Di drop karena na tidak terlalu berpengaruh ke data yang akan di lakukan EDA"
   ]
  },
  {
   "cell_type": "markdown",
   "metadata": {},
   "source": [
    "# EDA"
   ]
  },
  {
   "cell_type": "markdown",
   "metadata": {},
   "source": [
    "### Rate daily "
   ]
  },
  {
   "cell_type": "code",
   "execution_count": 12,
   "metadata": {},
   "outputs": [
    {
     "data": {
      "text/plain": [
       "<matplotlib.axes._subplots.AxesSubplot at 0x22604987070>"
      ]
     },
     "execution_count": 12,
     "metadata": {},
     "output_type": "execute_result"
    },
    {
     "data": {
      "image/png": "[encoded data removed]",
      "text/plain": [
       "<Figure size 720x360 with 1 Axes>"
      ]
     },
     "metadata": {
      "needs_background": "light"
     },
     "output_type": "display_data"
    }
   ],
   "source": [
    "plt.figure(figsize=(10,5))\n",
    "plt.xticks(rotation=90, size=15)\n",
    "plt.xlabel('rate.daily', size = 15)\n",
    "sns.set_style('whitegrid')\n",
    "\n",
    "dfb['rate.daily'].hist(bins=30)"
   ]
  },
  {
   "cell_type": "markdown",
   "metadata": {},
   "source": [
    "### vihecle type"
   ]
  },
  {
   "cell_type": "code",
   "execution_count": 13,
   "metadata": {},
   "outputs": [
    {
     "data": {
      "text/plain": [
       "<matplotlib.axes._subplots.AxesSubplot at 0x22604ac4d30>"
      ]
     },
     "execution_count": 13,
     "metadata": {},
     "output_type": "execute_result"
    },
    {
     "data": {
      "image/png": "[encoded data removed]",
      "text/plain": [
       "<Figure size 720x360 with 1 Axes>"
      ]
     },
     "metadata": {},
     "output_type": "display_data"
    }
   ],
   "source": [
    "plt.figure(figsize=(10,5))\n",
    "plt.xticks(rotation=90, size=15)\n",
    "plt.xlabel('vehicle.type', size = 15)\n",
    "sns.set_style('whitegrid')\n",
    "\n",
    "dfb['vehicle.type'].hist(bins=30)"
   ]
  },
  {
   "cell_type": "markdown",
   "metadata": {},
   "source": [
    "### vihecle make"
   ]
  },
  {
   "cell_type": "code",
   "execution_count": 14,
   "metadata": {},
   "outputs": [
    {
     "data": {
      "text/plain": [
       "<matplotlib.axes._subplots.AxesSubplot at 0x22604ac4eb0>"
      ]
     },
     "execution_count": 14,
     "metadata": {},
     "output_type": "execute_result"
    },
    {
     "data": {
      "image/png": "[encoded data removed]",
      "text/plain": [
       "<Figure size 720x360 with 1 Axes>"
      ]
     },
     "metadata": {},
     "output_type": "display_data"
    }
   ],
   "source": [
    "plt.figure(figsize=(10,5))\n",
    "plt.xticks(rotation=90)\n",
    "plt.xlabel('vehicle.make', size = 15)\n",
    "sns.set_style('whitegrid')\n",
    "\n",
    "dfb['vehicle.make'].hist(bins=30)"
   ]
  },
  {
   "cell_type": "markdown",
   "metadata": {},
   "source": [
    "### Rating"
   ]
  },
  {
   "cell_type": "code",
   "execution_count": 15,
   "metadata": {},
   "outputs": [
    {
     "data": {
      "text/plain": [
       "<matplotlib.axes._subplots.AxesSubplot at 0x22604c97c40>"
      ]
     },
     "execution_count": 15,
     "metadata": {},
     "output_type": "execute_result"
    },
    {
     "data": {
      "image/png": "[encoded data removed]",
      "text/plain": [
       "<Figure size 720x360 with 1 Axes>"
      ]
     },
     "metadata": {},
     "output_type": "display_data"
    }
   ],
   "source": [
    "plt.figure(figsize=(10,5))\n",
    "plt.xticks(rotation=90)\n",
    "plt.xlabel('rating', size = 15)\n",
    "sns.set_style('whitegrid')\n",
    "\n",
    "dfb['rating'].hist(bins=30)"
   ]
  },
  {
   "cell_type": "markdown",
   "metadata": {},
   "source": [
    "### location state"
   ]
  },
  {
   "cell_type": "code",
   "execution_count": 16,
   "metadata": {},
   "outputs": [
    {
     "data": {
      "text/plain": [
       "<matplotlib.axes._subplots.AxesSubplot at 0x22604d3cdf0>"
      ]
     },
     "execution_count": 16,
     "metadata": {},
     "output_type": "execute_result"
    },
    {
     "data": {
      "image/png": "[encoded data removed]",
      "text/plain": [
       "<Figure size 720x360 with 1 Axes>"
      ]
     },
     "metadata": {},
     "output_type": "display_data"
    }
   ],
   "source": [
    "plt.figure(figsize=(10,5))\n",
    "plt.xticks(rotation=90)\n",
    "plt.xlabel('location.state', size = 15)\n",
    "sns.set_style('whitegrid')\n",
    "\n",
    "dfb['location.state'].hist(bins=30)"
   ]
  },
  {
   "cell_type": "markdown",
   "metadata": {},
   "source": [
    "### Feul type"
   ]
  },
  {
   "cell_type": "code",
   "execution_count": 17,
   "metadata": {},
   "outputs": [
    {
     "data": {
      "text/plain": [
       "<matplotlib.axes._subplots.AxesSubplot at 0x22604d3c0a0>"
      ]
     },
     "execution_count": 17,
     "metadata": {},
     "output_type": "execute_result"
    },
    {
     "data": {
      "image/png": "[encoded data removed]",
      "text/plain": [
       "<Figure size 720x360 with 1 Axes>"
      ]
     },
     "metadata": {},
     "output_type": "display_data"
    }
   ],
   "source": [
    "plt.figure(figsize=(10,5))\n",
    "plt.xticks(rotation=90)\n",
    "plt.xlabel('fuelType', size = 15)\n",
    "sns.set_style('whitegrid')\n",
    "\n",
    "dfb['fuelType'].hist(bins=30)"
   ]
  },
  {
   "cell_type": "markdown",
   "metadata": {},
   "source": [
    "### Vihecle year"
   ]
  },
  {
   "cell_type": "code",
   "execution_count": 18,
   "metadata": {},
   "outputs": [
    {
     "data": {
      "text/plain": [
       "<matplotlib.axes._subplots.AxesSubplot at 0x22604e4fc10>"
      ]
     },
     "execution_count": 18,
     "metadata": {},
     "output_type": "execute_result"
    },
    {
     "data": {
      "image/png": "[encoded data removed]",
      "text/plain": [
       "<Figure size 720x360 with 1 Axes>"
      ]
     },
     "metadata": {},
     "output_type": "display_data"
    }
   ],
   "source": [
    "\n",
    "plt.figure(figsize=(10,5))\n",
    "plt.xticks(rotation=90)\n",
    "plt.xlabel('vehicle.year', size = 15)\n",
    "sns.set_style('whitegrid')\n",
    "\n",
    "dfb['vehicle.year'].hist(bins=30)"
   ]
  },
  {
   "cell_type": "markdown",
   "metadata": {},
   "source": [
    "# eda correlation"
   ]
  },
  {
   "cell_type": "markdown",
   "metadata": {},
   "source": [
    "### Rate daily & viacle make"
   ]
  },
  {
   "cell_type": "code",
   "execution_count": 19,
   "metadata": {},
   "outputs": [
    {
     "data": {
      "text/plain": [
       "<matplotlib.axes._subplots.AxesSubplot at 0x22604e04af0>"
      ]
     },
     "execution_count": 19,
     "metadata": {},
     "output_type": "execute_result"
    },
    {
     "data": {
      "image/png": "[encoded data removed]",
      "text/plain": [
       "<Figure size 1080x576 with 1 Axes>"
      ]
     },
     "metadata": {},
     "output_type": "display_data"
    }
   ],
   "source": [
    "plt.figure(figsize=(15,8))\n",
    "plt.xticks(rotation=90, size=15)\n",
    "plt.ylabel('rate.daily', size = 20)\n",
    "plt.xlabel('vehicle.make', size = 20)\n",
    "sns.set_style('whitegrid')\n",
    "sns.barplot(x='vehicle.make',y='rate.daily',data=dfb)"
   ]
  },
  {
   "cell_type": "markdown",
   "metadata": {},
   "source": [
    "### rate daily & Viacle Type"
   ]
  },
  {
   "cell_type": "code",
   "execution_count": 20,
   "metadata": {},
   "outputs": [
    {
     "data": {
      "text/plain": [
       "<matplotlib.axes._subplots.AxesSubplot at 0x2260538bcd0>"
      ]
     },
     "execution_count": 20,
     "metadata": {},
     "output_type": "execute_result"
    },
    {
     "data": {
      "image/png": "[encoded data removed]",
      "text/plain": [
       "<Figure size 1080x576 with 1 Axes>"
      ]
     },
     "metadata": {},
     "output_type": "display_data"
    }
   ],
   "source": [
    "plt.figure(figsize=(15,8))\n",
    "plt.xticks(rotation=90, size=15)\n",
    "plt.ylabel('rate.daily', size = 20)\n",
    "plt.xlabel('vehicle.type', size = 20)\n",
    "sns.set_style('whitegrid')\n",
    "sns.barplot(x='vehicle.type',y='rate.daily',data=dfb)"
   ]
  },
  {
   "cell_type": "markdown",
   "metadata": {},
   "source": [
    "### Rate daily & location state"
   ]
  },
  {
   "cell_type": "code",
   "execution_count": 21,
   "metadata": {},
   "outputs": [
    {
     "data": {
      "text/plain": [
       "<matplotlib.axes._subplots.AxesSubplot at 0x226055f5bb0>"
      ]
     },
     "execution_count": 21,
     "metadata": {},
     "output_type": "execute_result"
    },
    {
     "data": {
      "image/png": "[encoded data removed]",
      "text/plain": [
       "<Figure size 1080x576 with 1 Axes>"
      ]
     },
     "metadata": {},
     "output_type": "display_data"
    }
   ],
   "source": [
    "plt.figure(figsize=(15,8))\n",
    "plt.xticks(rotation=90, size=15)\n",
    "plt.ylabel('rate.daily', size = 20)\n",
    "plt.xlabel('location.state', size = 20)\n",
    "sns.set_style('whitegrid')\n",
    "sns.barplot(x='location.state',y='rate.daily',data=dfb)"
   ]
  },
  {
   "cell_type": "markdown",
   "metadata": {},
   "source": [
    "### Rate daily & Fuel type"
   ]
  },
  {
   "cell_type": "code",
   "execution_count": 22,
   "metadata": {},
   "outputs": [
    {
     "data": {
      "text/plain": [
       "<matplotlib.axes._subplots.AxesSubplot at 0x22604f48b80>"
      ]
     },
     "execution_count": 22,
     "metadata": {},
     "output_type": "execute_result"
    },
    {
     "data": {
      "image/png": "[encoded data removed]",
      "text/plain": [
       "<Figure size 1080x576 with 1 Axes>"
      ]
     },
     "metadata": {},
     "output_type": "display_data"
    }
   ],
   "source": [
    "plt.figure(figsize=(15,8))\n",
    "plt.xticks(rotation=90, size=15)\n",
    "plt.ylabel('rate.daily', size = 20)\n",
    "plt.xlabel('fuelType', size = 20)\n",
    "sns.set_style('whitegrid')\n",
    "sns.barplot(x='fuelType',y='rate.daily',data=dfb)"
   ]
  },
  {
   "cell_type": "markdown",
   "metadata": {},
   "source": [
    "# EDA Electric vihecle"
   ]
  },
  {
   "cell_type": "code",
   "execution_count": 23,
   "metadata": {},
   "outputs": [],
   "source": [
    "dfele = dfb[(df['fuelType'] == 'ELECTRIC')]"
   ]
  },
  {
   "cell_type": "code",
   "execution_count": 24,
   "metadata": {},
   "outputs": [
    {
     "data": {
      "text/html": [
       "<div>\n",
       "<style scoped>\n",
       "    .dataframe tbody tr th:only-of-type {\n",
       "        vertical-align: middle;\n",
       "    }\n",
       "\n",
       "    .dataframe tbody tr th {\n",
       "        vertical-align: top;\n",
       "    }\n",
       "\n",
       "    .dataframe thead th {\n",
       "        text-align: right;\n",
       "    }\n",
       "</style>\n",
       "<table border=\"1\" class=\"dataframe\">\n",
       "  <thead>\n",
       "    <tr style=\"text-align: right;\">\n",
       "      <th></th>\n",
       "      <th>fuelType</th>\n",
       "      <th>rating</th>\n",
       "      <th>renterTripsTaken</th>\n",
       "      <th>reviewCount</th>\n",
       "      <th>location.city</th>\n",
       "      <th>location.country</th>\n",
       "      <th>location.latitude</th>\n",
       "      <th>location.longitude</th>\n",
       "      <th>location.state</th>\n",
       "      <th>owner.id</th>\n",
       "      <th>rate.daily</th>\n",
       "      <th>vehicle.make</th>\n",
       "      <th>vehicle.model</th>\n",
       "      <th>vehicle.type</th>\n",
       "      <th>vehicle.year</th>\n",
       "    </tr>\n",
       "  </thead>\n",
       "  <tbody>\n",
       "    <tr>\n",
       "      <th>0</th>\n",
       "      <td>ELECTRIC</td>\n",
       "      <td>5.00</td>\n",
       "      <td>13</td>\n",
       "      <td>12</td>\n",
       "      <td>Seattle</td>\n",
       "      <td>US</td>\n",
       "      <td>47.449107</td>\n",
       "      <td>-122.308841</td>\n",
       "      <td>WA</td>\n",
       "      <td>12847615</td>\n",
       "      <td>135</td>\n",
       "      <td>Tesla</td>\n",
       "      <td>Model X</td>\n",
       "      <td>suv</td>\n",
       "      <td>2019</td>\n",
       "    </tr>\n",
       "    <tr>\n",
       "      <th>1</th>\n",
       "      <td>ELECTRIC</td>\n",
       "      <td>5.00</td>\n",
       "      <td>2</td>\n",
       "      <td>1</td>\n",
       "      <td>Tijeras</td>\n",
       "      <td>US</td>\n",
       "      <td>35.111060</td>\n",
       "      <td>-106.276551</td>\n",
       "      <td>NM</td>\n",
       "      <td>15621242</td>\n",
       "      <td>190</td>\n",
       "      <td>Tesla</td>\n",
       "      <td>Model X</td>\n",
       "      <td>suv</td>\n",
       "      <td>2018</td>\n",
       "    </tr>\n",
       "    <tr>\n",
       "      <th>22</th>\n",
       "      <td>ELECTRIC</td>\n",
       "      <td>5.00</td>\n",
       "      <td>3</td>\n",
       "      <td>1</td>\n",
       "      <td>Albuquerque</td>\n",
       "      <td>US</td>\n",
       "      <td>35.213677</td>\n",
       "      <td>-106.724059</td>\n",
       "      <td>NM</td>\n",
       "      <td>1269071</td>\n",
       "      <td>171</td>\n",
       "      <td>Tesla</td>\n",
       "      <td>Model S</td>\n",
       "      <td>car</td>\n",
       "      <td>2015</td>\n",
       "    </tr>\n",
       "    <tr>\n",
       "      <th>39</th>\n",
       "      <td>ELECTRIC</td>\n",
       "      <td>4.83</td>\n",
       "      <td>8</td>\n",
       "      <td>6</td>\n",
       "      <td>Doraville</td>\n",
       "      <td>US</td>\n",
       "      <td>33.903748</td>\n",
       "      <td>-84.280355</td>\n",
       "      <td>GA</td>\n",
       "      <td>53029</td>\n",
       "      <td>146</td>\n",
       "      <td>Tesla</td>\n",
       "      <td>Model 3</td>\n",
       "      <td>car</td>\n",
       "      <td>2020</td>\n",
       "    </tr>\n",
       "    <tr>\n",
       "      <th>49</th>\n",
       "      <td>ELECTRIC</td>\n",
       "      <td>5.00</td>\n",
       "      <td>15</td>\n",
       "      <td>11</td>\n",
       "      <td>Atlanta</td>\n",
       "      <td>US</td>\n",
       "      <td>33.746442</td>\n",
       "      <td>-84.372238</td>\n",
       "      <td>GA</td>\n",
       "      <td>2253859</td>\n",
       "      <td>134</td>\n",
       "      <td>Tesla</td>\n",
       "      <td>Model 3</td>\n",
       "      <td>car</td>\n",
       "      <td>2018</td>\n",
       "    </tr>\n",
       "    <tr>\n",
       "      <th>...</th>\n",
       "      <td>...</td>\n",
       "      <td>...</td>\n",
       "      <td>...</td>\n",
       "      <td>...</td>\n",
       "      <td>...</td>\n",
       "      <td>...</td>\n",
       "      <td>...</td>\n",
       "      <td>...</td>\n",
       "      <td>...</td>\n",
       "      <td>...</td>\n",
       "      <td>...</td>\n",
       "      <td>...</td>\n",
       "      <td>...</td>\n",
       "      <td>...</td>\n",
       "      <td>...</td>\n",
       "    </tr>\n",
       "    <tr>\n",
       "      <th>5723</th>\n",
       "      <td>ELECTRIC</td>\n",
       "      <td>5.00</td>\n",
       "      <td>46</td>\n",
       "      <td>41</td>\n",
       "      <td>Kailua</td>\n",
       "      <td>US</td>\n",
       "      <td>21.377514</td>\n",
       "      <td>-157.728516</td>\n",
       "      <td>HI</td>\n",
       "      <td>5589535</td>\n",
       "      <td>150</td>\n",
       "      <td>Tesla</td>\n",
       "      <td>Model 3</td>\n",
       "      <td>car</td>\n",
       "      <td>2018</td>\n",
       "    </tr>\n",
       "    <tr>\n",
       "      <th>5735</th>\n",
       "      <td>ELECTRIC</td>\n",
       "      <td>5.00</td>\n",
       "      <td>11</td>\n",
       "      <td>9</td>\n",
       "      <td>Mililani</td>\n",
       "      <td>US</td>\n",
       "      <td>21.458580</td>\n",
       "      <td>-158.015600</td>\n",
       "      <td>HI</td>\n",
       "      <td>8048545</td>\n",
       "      <td>82</td>\n",
       "      <td>Tesla</td>\n",
       "      <td>Model 3</td>\n",
       "      <td>car</td>\n",
       "      <td>2020</td>\n",
       "    </tr>\n",
       "    <tr>\n",
       "      <th>5780</th>\n",
       "      <td>ELECTRIC</td>\n",
       "      <td>4.88</td>\n",
       "      <td>46</td>\n",
       "      <td>41</td>\n",
       "      <td>Ewa Beach</td>\n",
       "      <td>US</td>\n",
       "      <td>21.326774</td>\n",
       "      <td>-158.025169</td>\n",
       "      <td>HI</td>\n",
       "      <td>2373004</td>\n",
       "      <td>85</td>\n",
       "      <td>Tesla</td>\n",
       "      <td>Model 3</td>\n",
       "      <td>car</td>\n",
       "      <td>2019</td>\n",
       "    </tr>\n",
       "    <tr>\n",
       "      <th>5785</th>\n",
       "      <td>ELECTRIC</td>\n",
       "      <td>5.00</td>\n",
       "      <td>2</td>\n",
       "      <td>2</td>\n",
       "      <td>Honolulu</td>\n",
       "      <td>US</td>\n",
       "      <td>21.355309</td>\n",
       "      <td>-157.929340</td>\n",
       "      <td>HI</td>\n",
       "      <td>9468747</td>\n",
       "      <td>50</td>\n",
       "      <td>Nissan</td>\n",
       "      <td>Leaf</td>\n",
       "      <td>car</td>\n",
       "      <td>2015</td>\n",
       "    </tr>\n",
       "    <tr>\n",
       "      <th>5825</th>\n",
       "      <td>ELECTRIC</td>\n",
       "      <td>5.00</td>\n",
       "      <td>2</td>\n",
       "      <td>2</td>\n",
       "      <td>Kapolei</td>\n",
       "      <td>US</td>\n",
       "      <td>21.339182</td>\n",
       "      <td>-158.075903</td>\n",
       "      <td>HI</td>\n",
       "      <td>8864545</td>\n",
       "      <td>53</td>\n",
       "      <td>Nissan</td>\n",
       "      <td>Leaf</td>\n",
       "      <td>car</td>\n",
       "      <td>2018</td>\n",
       "    </tr>\n",
       "  </tbody>\n",
       "</table>\n",
       "<p>569 rows × 15 columns</p>\n",
       "</div>"
      ],
      "text/plain": [
       "      fuelType  rating  renterTripsTaken  reviewCount location.city  \\\n",
       "0     ELECTRIC    5.00                13           12       Seattle   \n",
       "1     ELECTRIC    5.00                 2            1       Tijeras   \n",
       "22    ELECTRIC    5.00                 3            1   Albuquerque   \n",
       "39    ELECTRIC    4.83                 8            6     Doraville   \n",
       "49    ELECTRIC    5.00                15           11       Atlanta   \n",
       "...        ...     ...               ...          ...           ...   \n",
       "5723  ELECTRIC    5.00                46           41        Kailua   \n",
       "5735  ELECTRIC    5.00                11            9      Mililani   \n",
       "5780  ELECTRIC    4.88                46           41     Ewa Beach   \n",
       "5785  ELECTRIC    5.00                 2            2      Honolulu   \n",
       "5825  ELECTRIC    5.00                 2            2       Kapolei   \n",
       "\n",
       "     location.country  location.latitude  location.longitude location.state  \\\n",
       "0                  US          47.449107         -122.308841             WA   \n",
       "1                  US          35.111060         -106.276551             NM   \n",
       "22                 US          35.213677         -106.724059             NM   \n",
       "39                 US          33.903748          -84.280355             GA   \n",
       "49                 US          33.746442          -84.372238             GA   \n",
       "...               ...                ...                 ...            ...   \n",
       "5723               US          21.377514         -157.728516             HI   \n",
       "5735               US          21.458580         -158.015600             HI   \n",
       "5780               US          21.326774         -158.025169             HI   \n",
       "5785               US          21.355309         -157.929340             HI   \n",
       "5825               US          21.339182         -158.075903             HI   \n",
       "\n",
       "      owner.id  rate.daily vehicle.make vehicle.model vehicle.type  \\\n",
       "0     12847615         135        Tesla       Model X          suv   \n",
       "1     15621242         190        Tesla       Model X          suv   \n",
       "22     1269071         171        Tesla       Model S          car   \n",
       "39       53029         146        Tesla       Model 3          car   \n",
       "49     2253859         134        Tesla       Model 3          car   \n",
       "...        ...         ...          ...           ...          ...   \n",
       "5723   5589535         150        Tesla       Model 3          car   \n",
       "5735   8048545          82        Tesla       Model 3          car   \n",
       "5780   2373004          85        Tesla       Model 3          car   \n",
       "5785   9468747          50       Nissan          Leaf          car   \n",
       "5825   8864545          53       Nissan          Leaf          car   \n",
       "\n",
       "      vehicle.year  \n",
       "0             2019  \n",
       "1             2018  \n",
       "22            2015  \n",
       "39            2020  \n",
       "49            2018  \n",
       "...            ...  \n",
       "5723          2018  \n",
       "5735          2020  \n",
       "5780          2019  \n",
       "5785          2015  \n",
       "5825          2018  \n",
       "\n",
       "[569 rows x 15 columns]"
      ]
     },
     "execution_count": 24,
     "metadata": {},
     "output_type": "execute_result"
    }
   ],
   "source": [
    "dfele"
   ]
  },
  {
   "cell_type": "markdown",
   "metadata": {},
   "source": [
    "# Vehicle make"
   ]
  },
  {
   "cell_type": "code",
   "execution_count": 44,
   "metadata": {
    "scrolled": true
   },
   "outputs": [
    {
     "data": {
      "text/plain": [
       "<matplotlib.axes._subplots.AxesSubplot at 0x1e2ee804d90>"
      ]
     },
     "execution_count": 44,
     "metadata": {},
     "output_type": "execute_result"
    },
    {
     "data": {
      "image/png": "[encoded data removed]",
      "text/plain": [
       "<Figure size 720x360 with 1 Axes>"
      ]
     },
     "metadata": {},
     "output_type": "display_data"
    }
   ],
   "source": [
    "plt.figure(figsize=(10,5))\n",
    "plt.xticks(rotation=90)\n",
    "plt.xlabel('vehicle.make', size = 15)\n",
    "sns.set_style('whitegrid')\n",
    "\n",
    "dfele['vehicle.make'].hist(bins=30)"
   ]
  },
  {
   "cell_type": "markdown",
   "metadata": {},
   "source": [
    "# Rating"
   ]
  },
  {
   "cell_type": "code",
   "execution_count": 25,
   "metadata": {},
   "outputs": [
    {
     "data": {
      "text/plain": [
       "<matplotlib.axes._subplots.AxesSubplot at 0x226057d45b0>"
      ]
     },
     "execution_count": 25,
     "metadata": {},
     "output_type": "execute_result"
    },
    {
     "data": {
      "image/png": "[encoded data removed]",
      "text/plain": [
       "<Figure size 720x360 with 1 Axes>"
      ]
     },
     "metadata": {},
     "output_type": "display_data"
    }
   ],
   "source": [
    "plt.figure(figsize=(10,5))\n",
    "plt.xticks(rotation=90)\n",
    "plt.xlabel('rating', size = 15)\n",
    "sns.set_style('whitegrid')\n",
    "\n",
    "dfele['rating'].hist(bins=30)"
   ]
  },
  {
   "cell_type": "markdown",
   "metadata": {},
   "source": [
    "# Location state"
   ]
  },
  {
   "cell_type": "code",
   "execution_count": 26,
   "metadata": {},
   "outputs": [
    {
     "data": {
      "text/plain": [
       "<matplotlib.axes._subplots.AxesSubplot at 0x22606a40eb0>"
      ]
     },
     "execution_count": 26,
     "metadata": {},
     "output_type": "execute_result"
    },
    {
     "data": {
      "image/png": "[encoded data removed]",
      "text/plain": [
       "<Figure size 720x360 with 1 Axes>"
      ]
     },
     "metadata": {},
     "output_type": "display_data"
    }
   ],
   "source": [
    "plt.figure(figsize=(10,5))\n",
    "plt.xticks(rotation=90)\n",
    "plt.xlabel('location.state', size = 15)\n",
    "sns.set_style('whitegrid')\n",
    "\n",
    "dfele['location.state'].hist(bins=30)"
   ]
  },
  {
   "cell_type": "markdown",
   "metadata": {},
   "source": [
    "# rate daily"
   ]
  },
  {
   "cell_type": "code",
   "execution_count": 27,
   "metadata": {},
   "outputs": [
    {
     "data": {
      "text/plain": [
       "<matplotlib.axes._subplots.AxesSubplot at 0x22606a33550>"
      ]
     },
     "execution_count": 27,
     "metadata": {},
     "output_type": "execute_result"
    },
    {
     "data": {
      "image/png": "[encoded data removed]",
      "text/plain": [
       "<Figure size 720x360 with 1 Axes>"
      ]
     },
     "metadata": {},
     "output_type": "display_data"
    }
   ],
   "source": [
    "plt.figure(figsize=(10,5))\n",
    "plt.xticks(rotation=90)\n",
    "plt.xlabel('rate.daily', size = 15)\n",
    "sns.set_style('whitegrid')\n",
    "\n",
    "dfele['rate.daily'].hist(bins=30)"
   ]
  },
  {
   "cell_type": "markdown",
   "metadata": {},
   "source": [
    "# vehicle model"
   ]
  },
  {
   "cell_type": "code",
   "execution_count": 28,
   "metadata": {},
   "outputs": [
    {
     "data": {
      "text/plain": [
       "<matplotlib.axes._subplots.AxesSubplot at 0x22606b385b0>"
      ]
     },
     "execution_count": 28,
     "metadata": {},
     "output_type": "execute_result"
    },
    {
     "data": {
      "image/png": "[encoded data removed]",
      "text/plain": [
       "<Figure size 720x360 with 1 Axes>"
      ]
     },
     "metadata": {},
     "output_type": "display_data"
    }
   ],
   "source": [
    "plt.figure(figsize=(10,5))\n",
    "plt.xticks(rotation=90)\n",
    "plt.xlabel('vehicle.model', size = 15)\n",
    "sns.set_style('whitegrid')\n",
    "\n",
    "dfele['vehicle.model'].hist(bins=30)"
   ]
  },
  {
   "cell_type": "markdown",
   "metadata": {},
   "source": [
    "# vehicle year"
   ]
  },
  {
   "cell_type": "code",
   "execution_count": 29,
   "metadata": {},
   "outputs": [
    {
     "data": {
      "text/plain": [
       "<matplotlib.axes._subplots.AxesSubplot at 0x226051ddb80>"
      ]
     },
     "execution_count": 29,
     "metadata": {},
     "output_type": "execute_result"
    },
    {
     "data": {
      "image/png": "[encoded data removed]",
      "text/plain": [
       "<Figure size 720x360 with 1 Axes>"
      ]
     },
     "metadata": {},
     "output_type": "display_data"
    }
   ],
   "source": [
    "plt.figure(figsize=(10,5))\n",
    "plt.xticks(rotation=90)\n",
    "plt.xlabel('vehicle.year', size = 15)\n",
    "sns.set_style('whitegrid')\n",
    "\n",
    "dfele['vehicle.year'].hist(bins=30)"
   ]
  },
  {
   "cell_type": "markdown",
   "metadata": {},
   "source": [
    "# EDA Corelation Electric car"
   ]
  },
  {
   "cell_type": "markdown",
   "metadata": {},
   "source": [
    "### Rate daily and Vehicle make"
   ]
  },
  {
   "cell_type": "code",
   "execution_count": 30,
   "metadata": {},
   "outputs": [
    {
     "data": {
      "text/plain": [
       "<matplotlib.axes._subplots.AxesSubplot at 0x22605284880>"
      ]
     },
     "execution_count": 30,
     "metadata": {},
     "output_type": "execute_result"
    },
    {
     "data": {
      "image/png": "[encoded data removed]",
      "text/plain": [
       "<Figure size 1080x576 with 1 Axes>"
      ]
     },
     "metadata": {},
     "output_type": "display_data"
    }
   ],
   "source": [
    "plt.figure(figsize=(15,8))\n",
    "plt.xticks(rotation=90, size=15)\n",
    "plt.ylabel('rate.daily', size = 20)\n",
    "plt.xlabel('vehicle.make', size = 20)\n",
    "sns.set_style('whitegrid')\n",
    "sns.barplot(x='vehicle.make',y='rate.daily',data=dfele)"
   ]
  },
  {
   "cell_type": "markdown",
   "metadata": {},
   "source": [
    "### Rate daily and Vehicle model"
   ]
  },
  {
   "cell_type": "code",
   "execution_count": 31,
   "metadata": {},
   "outputs": [
    {
     "data": {
      "text/plain": [
       "<matplotlib.axes._subplots.AxesSubplot at 0x226052849a0>"
      ]
     },
     "execution_count": 31,
     "metadata": {},
     "output_type": "execute_result"
    },
    {
     "data": {
      "image/png": "[encoded data removed]",
      "text/plain": [
       "<Figure size 1080x576 with 1 Axes>"
      ]
     },
     "metadata": {},
     "output_type": "display_data"
    }
   ],
   "source": [
    "plt.figure(figsize=(15,8))\n",
    "plt.xticks(rotation=90, size=15)\n",
    "plt.ylabel('rate.daily', size = 20)\n",
    "plt.xlabel('vehicle.model', size = 20)\n",
    "sns.set_style('whitegrid')\n",
    "sns.barplot(x='vehicle.model',y='rate.daily',data=dfele)"
   ]
  },
  {
   "cell_type": "markdown",
   "metadata": {},
   "source": [
    "### Rate daily and Vehicle year"
   ]
  },
  {
   "cell_type": "code",
   "execution_count": 32,
   "metadata": {},
   "outputs": [
    {
     "data": {
      "text/plain": [
       "<matplotlib.axes._subplots.AxesSubplot at 0x2260532dc40>"
      ]
     },
     "execution_count": 32,
     "metadata": {},
     "output_type": "execute_result"
    },
    {
     "data": {
      "image/png": "[encoded data removed]",
      "text/plain": [
       "<Figure size 1080x576 with 1 Axes>"
      ]
     },
     "metadata": {},
     "output_type": "display_data"
    }
   ],
   "source": [
    "plt.figure(figsize=(15,8))\n",
    "plt.xticks(rotation=90, size=15)\n",
    "plt.ylabel('rate.daily', size = 20)\n",
    "plt.xlabel('vehicle.year', size = 20)\n",
    "sns.set_style('whitegrid')\n",
    "sns.barplot(x='vehicle.year',y='rate.daily',data=dfele)"
   ]
  },
  {
   "cell_type": "markdown",
   "metadata": {},
   "source": [
    "### Rate daily and Location state"
   ]
  },
  {
   "cell_type": "code",
   "execution_count": 33,
   "metadata": {},
   "outputs": [
    {
     "data": {
      "text/plain": [
       "<matplotlib.axes._subplots.AxesSubplot at 0x22606c0ecd0>"
      ]
     },
     "execution_count": 33,
     "metadata": {},
     "output_type": "execute_result"
    },
    {
     "data": {
      "image/png": "[encoded data removed]",
      "text/plain": [
       "<Figure size 1080x576 with 1 Axes>"
      ]
     },
     "metadata": {},
     "output_type": "display_data"
    }
   ],
   "source": [
    "plt.figure(figsize=(15,8))\n",
    "plt.xticks(rotation=90, size=15)\n",
    "plt.ylabel('rate.daily', size = 20)\n",
    "plt.xlabel('location.state', size = 20)\n",
    "sns.set_style('whitegrid')\n",
    "sns.barplot(x='location.state',y='rate.daily',data=dfele)"
   ]
  },
  {
   "cell_type": "code",
   "execution_count": null,
   "metadata": {},
   "outputs": [],
   "source": []
  },
  {
   "cell_type": "markdown",
   "metadata": {},
   "source": [
    "# statistic"
   ]
  },
  {
   "cell_type": "code",
   "execution_count": 34,
   "metadata": {},
   "outputs": [
    {
     "data": {
      "text/plain": [
       "<matplotlib.axes._subplots.AxesSubplot at 0x22606be1730>"
      ]
     },
     "execution_count": 34,
     "metadata": {},
     "output_type": "execute_result"
    },
    {
     "data": {
      "image/png": "[encoded data removed]",
      "text/plain": [
       "<Figure size 1080x1080 with 2 Axes>"
      ]
     },
     "metadata": {},
     "output_type": "display_data"
    }
   ],
   "source": [
    "plt.figure(figsize=(15,15))\n",
    "sns.heatmap(dfb.corr(),annot=True)"
   ]
  },
  {
   "cell_type": "code",
   "execution_count": 35,
   "metadata": {},
   "outputs": [
    {
     "data": {
      "text/plain": [
       "<matplotlib.axes._subplots.AxesSubplot at 0x226078ca4c0>"
      ]
     },
     "execution_count": 35,
     "metadata": {},
     "output_type": "execute_result"
    },
    {
     "data": {
      "image/png": "[encoded data removed]",
      "text/plain": [
       "<Figure size 1080x1080 with 2 Axes>"
      ]
     },
     "metadata": {},
     "output_type": "display_data"
    }
   ],
   "source": [
    "plt.figure(figsize=(15,15))\n",
    "sns.heatmap(dfele.corr(),annot=True)"
   ]
  },
  {
   "cell_type": "code",
   "execution_count": 87,
   "metadata": {},
   "outputs": [],
   "source": [
    "# modeling"
   ]
  },
  {
   "cell_type": "code",
   "execution_count": 64,
   "metadata": {},
   "outputs": [],
   "source": [
    "dfb.drop(columns=['renterTripsTaken','reviewCount','location.city','location.country','location.latitude','location.longitude'], inplace=True)"
   ]
  },
  {
   "cell_type": "code",
   "execution_count": 65,
   "metadata": {},
   "outputs": [
    {
     "data": {
      "text/html": [
       "<div>\n",
       "<style scoped>\n",
       "    .dataframe tbody tr th:only-of-type {\n",
       "        vertical-align: middle;\n",
       "    }\n",
       "\n",
       "    .dataframe tbody tr th {\n",
       "        vertical-align: top;\n",
       "    }\n",
       "\n",
       "    .dataframe thead th {\n",
       "        text-align: right;\n",
       "    }\n",
       "</style>\n",
       "<table border=\"1\" class=\"dataframe\">\n",
       "  <thead>\n",
       "    <tr style=\"text-align: right;\">\n",
       "      <th></th>\n",
       "      <th>fuelType</th>\n",
       "      <th>rating</th>\n",
       "      <th>location.state</th>\n",
       "      <th>owner.id</th>\n",
       "      <th>rate.daily</th>\n",
       "      <th>vehicle.make</th>\n",
       "      <th>vehicle.model</th>\n",
       "      <th>vehicle.type</th>\n",
       "      <th>vehicle.year</th>\n",
       "    </tr>\n",
       "  </thead>\n",
       "  <tbody>\n",
       "    <tr>\n",
       "      <th>0</th>\n",
       "      <td>ELECTRIC</td>\n",
       "      <td>5.00</td>\n",
       "      <td>WA</td>\n",
       "      <td>12847615</td>\n",
       "      <td>135</td>\n",
       "      <td>Tesla</td>\n",
       "      <td>Model X</td>\n",
       "      <td>suv</td>\n",
       "      <td>2019</td>\n",
       "    </tr>\n",
       "    <tr>\n",
       "      <th>1</th>\n",
       "      <td>ELECTRIC</td>\n",
       "      <td>5.00</td>\n",
       "      <td>NM</td>\n",
       "      <td>15621242</td>\n",
       "      <td>190</td>\n",
       "      <td>Tesla</td>\n",
       "      <td>Model X</td>\n",
       "      <td>suv</td>\n",
       "      <td>2018</td>\n",
       "    </tr>\n",
       "    <tr>\n",
       "      <th>2</th>\n",
       "      <td>HYBRID</td>\n",
       "      <td>4.92</td>\n",
       "      <td>NM</td>\n",
       "      <td>10199256</td>\n",
       "      <td>35</td>\n",
       "      <td>Toyota</td>\n",
       "      <td>Prius</td>\n",
       "      <td>car</td>\n",
       "      <td>2012</td>\n",
       "    </tr>\n",
       "    <tr>\n",
       "      <th>3</th>\n",
       "      <td>GASOLINE</td>\n",
       "      <td>5.00</td>\n",
       "      <td>NM</td>\n",
       "      <td>9365496</td>\n",
       "      <td>75</td>\n",
       "      <td>Ford</td>\n",
       "      <td>Mustang</td>\n",
       "      <td>car</td>\n",
       "      <td>2018</td>\n",
       "    </tr>\n",
       "    <tr>\n",
       "      <th>4</th>\n",
       "      <td>GASOLINE</td>\n",
       "      <td>5.00</td>\n",
       "      <td>NM</td>\n",
       "      <td>3553565</td>\n",
       "      <td>47</td>\n",
       "      <td>Chrysler</td>\n",
       "      <td>Sebring</td>\n",
       "      <td>car</td>\n",
       "      <td>2010</td>\n",
       "    </tr>\n",
       "    <tr>\n",
       "      <th>...</th>\n",
       "      <td>...</td>\n",
       "      <td>...</td>\n",
       "      <td>...</td>\n",
       "      <td>...</td>\n",
       "      <td>...</td>\n",
       "      <td>...</td>\n",
       "      <td>...</td>\n",
       "      <td>...</td>\n",
       "      <td>...</td>\n",
       "    </tr>\n",
       "    <tr>\n",
       "      <th>5845</th>\n",
       "      <td>GASOLINE</td>\n",
       "      <td>5.00</td>\n",
       "      <td>HI</td>\n",
       "      <td>8836511</td>\n",
       "      <td>50</td>\n",
       "      <td>Nissan</td>\n",
       "      <td>Rogue</td>\n",
       "      <td>suv</td>\n",
       "      <td>2014</td>\n",
       "    </tr>\n",
       "    <tr>\n",
       "      <th>5846</th>\n",
       "      <td>GASOLINE</td>\n",
       "      <td>5.00</td>\n",
       "      <td>HI</td>\n",
       "      <td>9794111</td>\n",
       "      <td>33</td>\n",
       "      <td>Chevrolet</td>\n",
       "      <td>Cruze</td>\n",
       "      <td>car</td>\n",
       "      <td>2017</td>\n",
       "    </tr>\n",
       "    <tr>\n",
       "      <th>5847</th>\n",
       "      <td>HYBRID</td>\n",
       "      <td>5.00</td>\n",
       "      <td>HI</td>\n",
       "      <td>2754690</td>\n",
       "      <td>49</td>\n",
       "      <td>Lexus</td>\n",
       "      <td>HS 250h</td>\n",
       "      <td>car</td>\n",
       "      <td>2010</td>\n",
       "    </tr>\n",
       "    <tr>\n",
       "      <th>5848</th>\n",
       "      <td>GASOLINE</td>\n",
       "      <td>4.94</td>\n",
       "      <td>HI</td>\n",
       "      <td>11313508</td>\n",
       "      <td>35</td>\n",
       "      <td>smart</td>\n",
       "      <td>fortwo</td>\n",
       "      <td>car</td>\n",
       "      <td>2013</td>\n",
       "    </tr>\n",
       "    <tr>\n",
       "      <th>5850</th>\n",
       "      <td>GASOLINE</td>\n",
       "      <td>5.00</td>\n",
       "      <td>HI</td>\n",
       "      <td>11313508</td>\n",
       "      <td>35</td>\n",
       "      <td>smart</td>\n",
       "      <td>fortwo</td>\n",
       "      <td>car</td>\n",
       "      <td>2013</td>\n",
       "    </tr>\n",
       "  </tbody>\n",
       "</table>\n",
       "<p>5286 rows × 9 columns</p>\n",
       "</div>"
      ],
      "text/plain": [
       "      fuelType  rating location.state  owner.id  rate.daily vehicle.make  \\\n",
       "0     ELECTRIC    5.00             WA  12847615         135        Tesla   \n",
       "1     ELECTRIC    5.00             NM  15621242         190        Tesla   \n",
       "2       HYBRID    4.92             NM  10199256          35       Toyota   \n",
       "3     GASOLINE    5.00             NM   9365496          75         Ford   \n",
       "4     GASOLINE    5.00             NM   3553565          47     Chrysler   \n",
       "...        ...     ...            ...       ...         ...          ...   \n",
       "5845  GASOLINE    5.00             HI   8836511          50       Nissan   \n",
       "5846  GASOLINE    5.00             HI   9794111          33    Chevrolet   \n",
       "5847    HYBRID    5.00             HI   2754690          49        Lexus   \n",
       "5848  GASOLINE    4.94             HI  11313508          35        smart   \n",
       "5850  GASOLINE    5.00             HI  11313508          35        smart   \n",
       "\n",
       "     vehicle.model vehicle.type  vehicle.year  \n",
       "0          Model X          suv          2019  \n",
       "1          Model X          suv          2018  \n",
       "2            Prius          car          2012  \n",
       "3          Mustang          car          2018  \n",
       "4          Sebring          car          2010  \n",
       "...            ...          ...           ...  \n",
       "5845         Rogue          suv          2014  \n",
       "5846         Cruze          car          2017  \n",
       "5847       HS 250h          car          2010  \n",
       "5848        fortwo          car          2013  \n",
       "5850        fortwo          car          2013  \n",
       "\n",
       "[5286 rows x 9 columns]"
      ]
     },
     "execution_count": 65,
     "metadata": {},
     "output_type": "execute_result"
    }
   ],
   "source": [
    "dfb"
   ]
  },
  {
   "cell_type": "code",
   "execution_count": 66,
   "metadata": {},
   "outputs": [],
   "source": [
    "dfb.drop(columns=['owner.id'], inplace=True)"
   ]
  },
  {
   "cell_type": "code",
   "execution_count": 67,
   "metadata": {},
   "outputs": [
    {
     "data": {
      "text/html": [
       "<div>\n",
       "<style scoped>\n",
       "    .dataframe tbody tr th:only-of-type {\n",
       "        vertical-align: middle;\n",
       "    }\n",
       "\n",
       "    .dataframe tbody tr th {\n",
       "        vertical-align: top;\n",
       "    }\n",
       "\n",
       "    .dataframe thead th {\n",
       "        text-align: right;\n",
       "    }\n",
       "</style>\n",
       "<table border=\"1\" class=\"dataframe\">\n",
       "  <thead>\n",
       "    <tr style=\"text-align: right;\">\n",
       "      <th></th>\n",
       "      <th>fuelType</th>\n",
       "      <th>rating</th>\n",
       "      <th>location.state</th>\n",
       "      <th>rate.daily</th>\n",
       "      <th>vehicle.make</th>\n",
       "      <th>vehicle.model</th>\n",
       "      <th>vehicle.type</th>\n",
       "      <th>vehicle.year</th>\n",
       "    </tr>\n",
       "  </thead>\n",
       "  <tbody>\n",
       "    <tr>\n",
       "      <th>0</th>\n",
       "      <td>ELECTRIC</td>\n",
       "      <td>5.00</td>\n",
       "      <td>WA</td>\n",
       "      <td>135</td>\n",
       "      <td>Tesla</td>\n",
       "      <td>Model X</td>\n",
       "      <td>suv</td>\n",
       "      <td>2019</td>\n",
       "    </tr>\n",
       "    <tr>\n",
       "      <th>1</th>\n",
       "      <td>ELECTRIC</td>\n",
       "      <td>5.00</td>\n",
       "      <td>NM</td>\n",
       "      <td>190</td>\n",
       "      <td>Tesla</td>\n",
       "      <td>Model X</td>\n",
       "      <td>suv</td>\n",
       "      <td>2018</td>\n",
       "    </tr>\n",
       "    <tr>\n",
       "      <th>2</th>\n",
       "      <td>HYBRID</td>\n",
       "      <td>4.92</td>\n",
       "      <td>NM</td>\n",
       "      <td>35</td>\n",
       "      <td>Toyota</td>\n",
       "      <td>Prius</td>\n",
       "      <td>car</td>\n",
       "      <td>2012</td>\n",
       "    </tr>\n",
       "    <tr>\n",
       "      <th>3</th>\n",
       "      <td>GASOLINE</td>\n",
       "      <td>5.00</td>\n",
       "      <td>NM</td>\n",
       "      <td>75</td>\n",
       "      <td>Ford</td>\n",
       "      <td>Mustang</td>\n",
       "      <td>car</td>\n",
       "      <td>2018</td>\n",
       "    </tr>\n",
       "    <tr>\n",
       "      <th>4</th>\n",
       "      <td>GASOLINE</td>\n",
       "      <td>5.00</td>\n",
       "      <td>NM</td>\n",
       "      <td>47</td>\n",
       "      <td>Chrysler</td>\n",
       "      <td>Sebring</td>\n",
       "      <td>car</td>\n",
       "      <td>2010</td>\n",
       "    </tr>\n",
       "    <tr>\n",
       "      <th>...</th>\n",
       "      <td>...</td>\n",
       "      <td>...</td>\n",
       "      <td>...</td>\n",
       "      <td>...</td>\n",
       "      <td>...</td>\n",
       "      <td>...</td>\n",
       "      <td>...</td>\n",
       "      <td>...</td>\n",
       "    </tr>\n",
       "    <tr>\n",
       "      <th>5845</th>\n",
       "      <td>GASOLINE</td>\n",
       "      <td>5.00</td>\n",
       "      <td>HI</td>\n",
       "      <td>50</td>\n",
       "      <td>Nissan</td>\n",
       "      <td>Rogue</td>\n",
       "      <td>suv</td>\n",
       "      <td>2014</td>\n",
       "    </tr>\n",
       "    <tr>\n",
       "      <th>5846</th>\n",
       "      <td>GASOLINE</td>\n",
       "      <td>5.00</td>\n",
       "      <td>HI</td>\n",
       "      <td>33</td>\n",
       "      <td>Chevrolet</td>\n",
       "      <td>Cruze</td>\n",
       "      <td>car</td>\n",
       "      <td>2017</td>\n",
       "    </tr>\n",
       "    <tr>\n",
       "      <th>5847</th>\n",
       "      <td>HYBRID</td>\n",
       "      <td>5.00</td>\n",
       "      <td>HI</td>\n",
       "      <td>49</td>\n",
       "      <td>Lexus</td>\n",
       "      <td>HS 250h</td>\n",
       "      <td>car</td>\n",
       "      <td>2010</td>\n",
       "    </tr>\n",
       "    <tr>\n",
       "      <th>5848</th>\n",
       "      <td>GASOLINE</td>\n",
       "      <td>4.94</td>\n",
       "      <td>HI</td>\n",
       "      <td>35</td>\n",
       "      <td>smart</td>\n",
       "      <td>fortwo</td>\n",
       "      <td>car</td>\n",
       "      <td>2013</td>\n",
       "    </tr>\n",
       "    <tr>\n",
       "      <th>5850</th>\n",
       "      <td>GASOLINE</td>\n",
       "      <td>5.00</td>\n",
       "      <td>HI</td>\n",
       "      <td>35</td>\n",
       "      <td>smart</td>\n",
       "      <td>fortwo</td>\n",
       "      <td>car</td>\n",
       "      <td>2013</td>\n",
       "    </tr>\n",
       "  </tbody>\n",
       "</table>\n",
       "<p>5286 rows × 8 columns</p>\n",
       "</div>"
      ],
      "text/plain": [
       "      fuelType  rating location.state  rate.daily vehicle.make vehicle.model  \\\n",
       "0     ELECTRIC    5.00             WA         135        Tesla       Model X   \n",
       "1     ELECTRIC    5.00             NM         190        Tesla       Model X   \n",
       "2       HYBRID    4.92             NM          35       Toyota         Prius   \n",
       "3     GASOLINE    5.00             NM          75         Ford       Mustang   \n",
       "4     GASOLINE    5.00             NM          47     Chrysler       Sebring   \n",
       "...        ...     ...            ...         ...          ...           ...   \n",
       "5845  GASOLINE    5.00             HI          50       Nissan         Rogue   \n",
       "5846  GASOLINE    5.00             HI          33    Chevrolet         Cruze   \n",
       "5847    HYBRID    5.00             HI          49        Lexus       HS 250h   \n",
       "5848  GASOLINE    4.94             HI          35        smart        fortwo   \n",
       "5850  GASOLINE    5.00             HI          35        smart        fortwo   \n",
       "\n",
       "     vehicle.type  vehicle.year  \n",
       "0             suv          2019  \n",
       "1             suv          2018  \n",
       "2             car          2012  \n",
       "3             car          2018  \n",
       "4             car          2010  \n",
       "...           ...           ...  \n",
       "5845          suv          2014  \n",
       "5846          car          2017  \n",
       "5847          car          2010  \n",
       "5848          car          2013  \n",
       "5850          car          2013  \n",
       "\n",
       "[5286 rows x 8 columns]"
      ]
     },
     "execution_count": 67,
     "metadata": {},
     "output_type": "execute_result"
    }
   ],
   "source": [
    "dfb"
   ]
  },
  {
   "cell_type": "markdown",
   "metadata": {},
   "source": [
    "# Electric vehicle modeling"
   ]
  },
  {
   "cell_type": "markdown",
   "metadata": {},
   "source": [
    "# Slicing data"
   ]
  },
  {
   "cell_type": "code",
   "execution_count": 101,
   "metadata": {},
   "outputs": [
    {
     "data": {
      "text/html": [
       "<div>\n",
       "<style scoped>\n",
       "    .dataframe tbody tr th:only-of-type {\n",
       "        vertical-align: middle;\n",
       "    }\n",
       "\n",
       "    .dataframe tbody tr th {\n",
       "        vertical-align: top;\n",
       "    }\n",
       "\n",
       "    .dataframe thead th {\n",
       "        text-align: right;\n",
       "    }\n",
       "</style>\n",
       "<table border=\"1\" class=\"dataframe\">\n",
       "  <thead>\n",
       "    <tr style=\"text-align: right;\">\n",
       "      <th></th>\n",
       "      <th>fuelType</th>\n",
       "      <th>rating</th>\n",
       "      <th>location.state</th>\n",
       "      <th>rate.daily</th>\n",
       "      <th>vehicle.make</th>\n",
       "      <th>vehicle.model</th>\n",
       "      <th>vehicle.type</th>\n",
       "      <th>vehicle.year</th>\n",
       "    </tr>\n",
       "  </thead>\n",
       "  <tbody>\n",
       "    <tr>\n",
       "      <th>0</th>\n",
       "      <td>ELECTRIC</td>\n",
       "      <td>5.00</td>\n",
       "      <td>WA</td>\n",
       "      <td>135</td>\n",
       "      <td>Tesla</td>\n",
       "      <td>Model X</td>\n",
       "      <td>suv</td>\n",
       "      <td>2019</td>\n",
       "    </tr>\n",
       "    <tr>\n",
       "      <th>1</th>\n",
       "      <td>ELECTRIC</td>\n",
       "      <td>5.00</td>\n",
       "      <td>NM</td>\n",
       "      <td>190</td>\n",
       "      <td>Tesla</td>\n",
       "      <td>Model X</td>\n",
       "      <td>suv</td>\n",
       "      <td>2018</td>\n",
       "    </tr>\n",
       "    <tr>\n",
       "      <th>2</th>\n",
       "      <td>HYBRID</td>\n",
       "      <td>4.92</td>\n",
       "      <td>NM</td>\n",
       "      <td>35</td>\n",
       "      <td>Toyota</td>\n",
       "      <td>Prius</td>\n",
       "      <td>car</td>\n",
       "      <td>2012</td>\n",
       "    </tr>\n",
       "    <tr>\n",
       "      <th>3</th>\n",
       "      <td>GASOLINE</td>\n",
       "      <td>5.00</td>\n",
       "      <td>NM</td>\n",
       "      <td>75</td>\n",
       "      <td>Ford</td>\n",
       "      <td>Mustang</td>\n",
       "      <td>car</td>\n",
       "      <td>2018</td>\n",
       "    </tr>\n",
       "    <tr>\n",
       "      <th>4</th>\n",
       "      <td>GASOLINE</td>\n",
       "      <td>5.00</td>\n",
       "      <td>NM</td>\n",
       "      <td>47</td>\n",
       "      <td>Chrysler</td>\n",
       "      <td>Sebring</td>\n",
       "      <td>car</td>\n",
       "      <td>2010</td>\n",
       "    </tr>\n",
       "    <tr>\n",
       "      <th>...</th>\n",
       "      <td>...</td>\n",
       "      <td>...</td>\n",
       "      <td>...</td>\n",
       "      <td>...</td>\n",
       "      <td>...</td>\n",
       "      <td>...</td>\n",
       "      <td>...</td>\n",
       "      <td>...</td>\n",
       "    </tr>\n",
       "    <tr>\n",
       "      <th>5845</th>\n",
       "      <td>GASOLINE</td>\n",
       "      <td>5.00</td>\n",
       "      <td>HI</td>\n",
       "      <td>50</td>\n",
       "      <td>Nissan</td>\n",
       "      <td>Rogue</td>\n",
       "      <td>suv</td>\n",
       "      <td>2014</td>\n",
       "    </tr>\n",
       "    <tr>\n",
       "      <th>5846</th>\n",
       "      <td>GASOLINE</td>\n",
       "      <td>5.00</td>\n",
       "      <td>HI</td>\n",
       "      <td>33</td>\n",
       "      <td>Chevrolet</td>\n",
       "      <td>Cruze</td>\n",
       "      <td>car</td>\n",
       "      <td>2017</td>\n",
       "    </tr>\n",
       "    <tr>\n",
       "      <th>5847</th>\n",
       "      <td>HYBRID</td>\n",
       "      <td>5.00</td>\n",
       "      <td>HI</td>\n",
       "      <td>49</td>\n",
       "      <td>Lexus</td>\n",
       "      <td>HS 250h</td>\n",
       "      <td>car</td>\n",
       "      <td>2010</td>\n",
       "    </tr>\n",
       "    <tr>\n",
       "      <th>5848</th>\n",
       "      <td>GASOLINE</td>\n",
       "      <td>4.94</td>\n",
       "      <td>HI</td>\n",
       "      <td>35</td>\n",
       "      <td>smart</td>\n",
       "      <td>fortwo</td>\n",
       "      <td>car</td>\n",
       "      <td>2013</td>\n",
       "    </tr>\n",
       "    <tr>\n",
       "      <th>5850</th>\n",
       "      <td>GASOLINE</td>\n",
       "      <td>5.00</td>\n",
       "      <td>HI</td>\n",
       "      <td>35</td>\n",
       "      <td>smart</td>\n",
       "      <td>fortwo</td>\n",
       "      <td>car</td>\n",
       "      <td>2013</td>\n",
       "    </tr>\n",
       "  </tbody>\n",
       "</table>\n",
       "<p>5286 rows × 8 columns</p>\n",
       "</div>"
      ],
      "text/plain": [
       "      fuelType  rating location.state  rate.daily vehicle.make vehicle.model  \\\n",
       "0     ELECTRIC    5.00             WA         135        Tesla       Model X   \n",
       "1     ELECTRIC    5.00             NM         190        Tesla       Model X   \n",
       "2       HYBRID    4.92             NM          35       Toyota         Prius   \n",
       "3     GASOLINE    5.00             NM          75         Ford       Mustang   \n",
       "4     GASOLINE    5.00             NM          47     Chrysler       Sebring   \n",
       "...        ...     ...            ...         ...          ...           ...   \n",
       "5845  GASOLINE    5.00             HI          50       Nissan         Rogue   \n",
       "5846  GASOLINE    5.00             HI          33    Chevrolet         Cruze   \n",
       "5847    HYBRID    5.00             HI          49        Lexus       HS 250h   \n",
       "5848  GASOLINE    4.94             HI          35        smart        fortwo   \n",
       "5850  GASOLINE    5.00             HI          35        smart        fortwo   \n",
       "\n",
       "     vehicle.type  vehicle.year  \n",
       "0             suv          2019  \n",
       "1             suv          2018  \n",
       "2             car          2012  \n",
       "3             car          2018  \n",
       "4             car          2010  \n",
       "...           ...           ...  \n",
       "5845          suv          2014  \n",
       "5846          car          2017  \n",
       "5847          car          2010  \n",
       "5848          car          2013  \n",
       "5850          car          2013  \n",
       "\n",
       "[5286 rows x 8 columns]"
      ]
     },
     "execution_count": 101,
     "metadata": {},
     "output_type": "execute_result"
    }
   ],
   "source": [
    "dfb"
   ]
  },
  {
   "cell_type": "code",
   "execution_count": 102,
   "metadata": {},
   "outputs": [],
   "source": [
    "dfele = dfb[(df['fuelType'] == 'ELECTRIC')]"
   ]
  },
  {
   "cell_type": "code",
   "execution_count": 103,
   "metadata": {},
   "outputs": [
    {
     "data": {
      "text/html": [
       "<div>\n",
       "<style scoped>\n",
       "    .dataframe tbody tr th:only-of-type {\n",
       "        vertical-align: middle;\n",
       "    }\n",
       "\n",
       "    .dataframe tbody tr th {\n",
       "        vertical-align: top;\n",
       "    }\n",
       "\n",
       "    .dataframe thead th {\n",
       "        text-align: right;\n",
       "    }\n",
       "</style>\n",
       "<table border=\"1\" class=\"dataframe\">\n",
       "  <thead>\n",
       "    <tr style=\"text-align: right;\">\n",
       "      <th></th>\n",
       "      <th>fuelType</th>\n",
       "      <th>rating</th>\n",
       "      <th>location.state</th>\n",
       "      <th>rate.daily</th>\n",
       "      <th>vehicle.make</th>\n",
       "      <th>vehicle.model</th>\n",
       "      <th>vehicle.type</th>\n",
       "      <th>vehicle.year</th>\n",
       "    </tr>\n",
       "  </thead>\n",
       "  <tbody>\n",
       "    <tr>\n",
       "      <th>0</th>\n",
       "      <td>ELECTRIC</td>\n",
       "      <td>5.00</td>\n",
       "      <td>WA</td>\n",
       "      <td>135</td>\n",
       "      <td>Tesla</td>\n",
       "      <td>Model X</td>\n",
       "      <td>suv</td>\n",
       "      <td>2019</td>\n",
       "    </tr>\n",
       "    <tr>\n",
       "      <th>1</th>\n",
       "      <td>ELECTRIC</td>\n",
       "      <td>5.00</td>\n",
       "      <td>NM</td>\n",
       "      <td>190</td>\n",
       "      <td>Tesla</td>\n",
       "      <td>Model X</td>\n",
       "      <td>suv</td>\n",
       "      <td>2018</td>\n",
       "    </tr>\n",
       "    <tr>\n",
       "      <th>22</th>\n",
       "      <td>ELECTRIC</td>\n",
       "      <td>5.00</td>\n",
       "      <td>NM</td>\n",
       "      <td>171</td>\n",
       "      <td>Tesla</td>\n",
       "      <td>Model S</td>\n",
       "      <td>car</td>\n",
       "      <td>2015</td>\n",
       "    </tr>\n",
       "    <tr>\n",
       "      <th>39</th>\n",
       "      <td>ELECTRIC</td>\n",
       "      <td>4.83</td>\n",
       "      <td>GA</td>\n",
       "      <td>146</td>\n",
       "      <td>Tesla</td>\n",
       "      <td>Model 3</td>\n",
       "      <td>car</td>\n",
       "      <td>2020</td>\n",
       "    </tr>\n",
       "    <tr>\n",
       "      <th>49</th>\n",
       "      <td>ELECTRIC</td>\n",
       "      <td>5.00</td>\n",
       "      <td>GA</td>\n",
       "      <td>134</td>\n",
       "      <td>Tesla</td>\n",
       "      <td>Model 3</td>\n",
       "      <td>car</td>\n",
       "      <td>2018</td>\n",
       "    </tr>\n",
       "    <tr>\n",
       "      <th>...</th>\n",
       "      <td>...</td>\n",
       "      <td>...</td>\n",
       "      <td>...</td>\n",
       "      <td>...</td>\n",
       "      <td>...</td>\n",
       "      <td>...</td>\n",
       "      <td>...</td>\n",
       "      <td>...</td>\n",
       "    </tr>\n",
       "    <tr>\n",
       "      <th>5723</th>\n",
       "      <td>ELECTRIC</td>\n",
       "      <td>5.00</td>\n",
       "      <td>HI</td>\n",
       "      <td>150</td>\n",
       "      <td>Tesla</td>\n",
       "      <td>Model 3</td>\n",
       "      <td>car</td>\n",
       "      <td>2018</td>\n",
       "    </tr>\n",
       "    <tr>\n",
       "      <th>5735</th>\n",
       "      <td>ELECTRIC</td>\n",
       "      <td>5.00</td>\n",
       "      <td>HI</td>\n",
       "      <td>82</td>\n",
       "      <td>Tesla</td>\n",
       "      <td>Model 3</td>\n",
       "      <td>car</td>\n",
       "      <td>2020</td>\n",
       "    </tr>\n",
       "    <tr>\n",
       "      <th>5780</th>\n",
       "      <td>ELECTRIC</td>\n",
       "      <td>4.88</td>\n",
       "      <td>HI</td>\n",
       "      <td>85</td>\n",
       "      <td>Tesla</td>\n",
       "      <td>Model 3</td>\n",
       "      <td>car</td>\n",
       "      <td>2019</td>\n",
       "    </tr>\n",
       "    <tr>\n",
       "      <th>5785</th>\n",
       "      <td>ELECTRIC</td>\n",
       "      <td>5.00</td>\n",
       "      <td>HI</td>\n",
       "      <td>50</td>\n",
       "      <td>Nissan</td>\n",
       "      <td>Leaf</td>\n",
       "      <td>car</td>\n",
       "      <td>2015</td>\n",
       "    </tr>\n",
       "    <tr>\n",
       "      <th>5825</th>\n",
       "      <td>ELECTRIC</td>\n",
       "      <td>5.00</td>\n",
       "      <td>HI</td>\n",
       "      <td>53</td>\n",
       "      <td>Nissan</td>\n",
       "      <td>Leaf</td>\n",
       "      <td>car</td>\n",
       "      <td>2018</td>\n",
       "    </tr>\n",
       "  </tbody>\n",
       "</table>\n",
       "<p>569 rows × 8 columns</p>\n",
       "</div>"
      ],
      "text/plain": [
       "      fuelType  rating location.state  rate.daily vehicle.make vehicle.model  \\\n",
       "0     ELECTRIC    5.00             WA         135        Tesla       Model X   \n",
       "1     ELECTRIC    5.00             NM         190        Tesla       Model X   \n",
       "22    ELECTRIC    5.00             NM         171        Tesla       Model S   \n",
       "39    ELECTRIC    4.83             GA         146        Tesla       Model 3   \n",
       "49    ELECTRIC    5.00             GA         134        Tesla       Model 3   \n",
       "...        ...     ...            ...         ...          ...           ...   \n",
       "5723  ELECTRIC    5.00             HI         150        Tesla       Model 3   \n",
       "5735  ELECTRIC    5.00             HI          82        Tesla       Model 3   \n",
       "5780  ELECTRIC    4.88             HI          85        Tesla       Model 3   \n",
       "5785  ELECTRIC    5.00             HI          50       Nissan          Leaf   \n",
       "5825  ELECTRIC    5.00             HI          53       Nissan          Leaf   \n",
       "\n",
       "     vehicle.type  vehicle.year  \n",
       "0             suv          2019  \n",
       "1             suv          2018  \n",
       "22            car          2015  \n",
       "39            car          2020  \n",
       "49            car          2018  \n",
       "...           ...           ...  \n",
       "5723          car          2018  \n",
       "5735          car          2020  \n",
       "5780          car          2019  \n",
       "5785          car          2015  \n",
       "5825          car          2018  \n",
       "\n",
       "[569 rows x 8 columns]"
      ]
     },
     "execution_count": 103,
     "metadata": {},
     "output_type": "execute_result"
    }
   ],
   "source": [
    "dfele"
   ]
  },
  {
   "cell_type": "code",
   "execution_count": 104,
   "metadata": {},
   "outputs": [
    {
     "data": {
      "text/plain": [
       "Model 3    299\n",
       "Model S    124\n",
       "Model X    106\n",
       "Model Y     16\n",
       "Bolt EV      9\n",
       "Leaf         5\n",
       "i3           5\n",
       "fortwo       1\n",
       "Soul EV      1\n",
       "500e         1\n",
       "E-Golf       1\n",
       "Niro         1\n",
       "Name: vehicle.model, dtype: int64"
      ]
     },
     "execution_count": 104,
     "metadata": {},
     "output_type": "execute_result"
    }
   ],
   "source": [
    "(dfele['vehicle.model'].value_counts())"
   ]
  },
  {
   "cell_type": "code",
   "execution_count": 105,
   "metadata": {},
   "outputs": [],
   "source": [
    "dfele.drop(columns=['fuelType'], inplace=True)"
   ]
  },
  {
   "cell_type": "code",
   "execution_count": 106,
   "metadata": {},
   "outputs": [
    {
     "data": {
      "text/html": [
       "<div>\n",
       "<style scoped>\n",
       "    .dataframe tbody tr th:only-of-type {\n",
       "        vertical-align: middle;\n",
       "    }\n",
       "\n",
       "    .dataframe tbody tr th {\n",
       "        vertical-align: top;\n",
       "    }\n",
       "\n",
       "    .dataframe thead th {\n",
       "        text-align: right;\n",
       "    }\n",
       "</style>\n",
       "<table border=\"1\" class=\"dataframe\">\n",
       "  <thead>\n",
       "    <tr style=\"text-align: right;\">\n",
       "      <th></th>\n",
       "      <th>rating</th>\n",
       "      <th>location.state</th>\n",
       "      <th>rate.daily</th>\n",
       "      <th>vehicle.make</th>\n",
       "      <th>vehicle.model</th>\n",
       "      <th>vehicle.type</th>\n",
       "      <th>vehicle.year</th>\n",
       "    </tr>\n",
       "  </thead>\n",
       "  <tbody>\n",
       "    <tr>\n",
       "      <th>0</th>\n",
       "      <td>5.00</td>\n",
       "      <td>WA</td>\n",
       "      <td>135</td>\n",
       "      <td>Tesla</td>\n",
       "      <td>Model X</td>\n",
       "      <td>suv</td>\n",
       "      <td>2019</td>\n",
       "    </tr>\n",
       "    <tr>\n",
       "      <th>1</th>\n",
       "      <td>5.00</td>\n",
       "      <td>NM</td>\n",
       "      <td>190</td>\n",
       "      <td>Tesla</td>\n",
       "      <td>Model X</td>\n",
       "      <td>suv</td>\n",
       "      <td>2018</td>\n",
       "    </tr>\n",
       "    <tr>\n",
       "      <th>22</th>\n",
       "      <td>5.00</td>\n",
       "      <td>NM</td>\n",
       "      <td>171</td>\n",
       "      <td>Tesla</td>\n",
       "      <td>Model S</td>\n",
       "      <td>car</td>\n",
       "      <td>2015</td>\n",
       "    </tr>\n",
       "    <tr>\n",
       "      <th>39</th>\n",
       "      <td>4.83</td>\n",
       "      <td>GA</td>\n",
       "      <td>146</td>\n",
       "      <td>Tesla</td>\n",
       "      <td>Model 3</td>\n",
       "      <td>car</td>\n",
       "      <td>2020</td>\n",
       "    </tr>\n",
       "    <tr>\n",
       "      <th>49</th>\n",
       "      <td>5.00</td>\n",
       "      <td>GA</td>\n",
       "      <td>134</td>\n",
       "      <td>Tesla</td>\n",
       "      <td>Model 3</td>\n",
       "      <td>car</td>\n",
       "      <td>2018</td>\n",
       "    </tr>\n",
       "    <tr>\n",
       "      <th>...</th>\n",
       "      <td>...</td>\n",
       "      <td>...</td>\n",
       "      <td>...</td>\n",
       "      <td>...</td>\n",
       "      <td>...</td>\n",
       "      <td>...</td>\n",
       "      <td>...</td>\n",
       "    </tr>\n",
       "    <tr>\n",
       "      <th>5723</th>\n",
       "      <td>5.00</td>\n",
       "      <td>HI</td>\n",
       "      <td>150</td>\n",
       "      <td>Tesla</td>\n",
       "      <td>Model 3</td>\n",
       "      <td>car</td>\n",
       "      <td>2018</td>\n",
       "    </tr>\n",
       "    <tr>\n",
       "      <th>5735</th>\n",
       "      <td>5.00</td>\n",
       "      <td>HI</td>\n",
       "      <td>82</td>\n",
       "      <td>Tesla</td>\n",
       "      <td>Model 3</td>\n",
       "      <td>car</td>\n",
       "      <td>2020</td>\n",
       "    </tr>\n",
       "    <tr>\n",
       "      <th>5780</th>\n",
       "      <td>4.88</td>\n",
       "      <td>HI</td>\n",
       "      <td>85</td>\n",
       "      <td>Tesla</td>\n",
       "      <td>Model 3</td>\n",
       "      <td>car</td>\n",
       "      <td>2019</td>\n",
       "    </tr>\n",
       "    <tr>\n",
       "      <th>5785</th>\n",
       "      <td>5.00</td>\n",
       "      <td>HI</td>\n",
       "      <td>50</td>\n",
       "      <td>Nissan</td>\n",
       "      <td>Leaf</td>\n",
       "      <td>car</td>\n",
       "      <td>2015</td>\n",
       "    </tr>\n",
       "    <tr>\n",
       "      <th>5825</th>\n",
       "      <td>5.00</td>\n",
       "      <td>HI</td>\n",
       "      <td>53</td>\n",
       "      <td>Nissan</td>\n",
       "      <td>Leaf</td>\n",
       "      <td>car</td>\n",
       "      <td>2018</td>\n",
       "    </tr>\n",
       "  </tbody>\n",
       "</table>\n",
       "<p>569 rows × 7 columns</p>\n",
       "</div>"
      ],
      "text/plain": [
       "      rating location.state  rate.daily vehicle.make vehicle.model  \\\n",
       "0       5.00             WA         135        Tesla       Model X   \n",
       "1       5.00             NM         190        Tesla       Model X   \n",
       "22      5.00             NM         171        Tesla       Model S   \n",
       "39      4.83             GA         146        Tesla       Model 3   \n",
       "49      5.00             GA         134        Tesla       Model 3   \n",
       "...      ...            ...         ...          ...           ...   \n",
       "5723    5.00             HI         150        Tesla       Model 3   \n",
       "5735    5.00             HI          82        Tesla       Model 3   \n",
       "5780    4.88             HI          85        Tesla       Model 3   \n",
       "5785    5.00             HI          50       Nissan          Leaf   \n",
       "5825    5.00             HI          53       Nissan          Leaf   \n",
       "\n",
       "     vehicle.type  vehicle.year  \n",
       "0             suv          2019  \n",
       "1             suv          2018  \n",
       "22            car          2015  \n",
       "39            car          2020  \n",
       "49            car          2018  \n",
       "...           ...           ...  \n",
       "5723          car          2018  \n",
       "5735          car          2020  \n",
       "5780          car          2019  \n",
       "5785          car          2015  \n",
       "5825          car          2018  \n",
       "\n",
       "[569 rows x 7 columns]"
      ]
     },
     "execution_count": 106,
     "metadata": {},
     "output_type": "execute_result"
    }
   ],
   "source": [
    "dfele"
   ]
  },
  {
   "cell_type": "code",
   "execution_count": 107,
   "metadata": {},
   "outputs": [
    {
     "data": {
      "text/plain": [
       "Model 3    299\n",
       "Model S    124\n",
       "Model X    106\n",
       "Model Y     16\n",
       "Bolt EV      9\n",
       "Leaf         5\n",
       "i3           5\n",
       "fortwo       1\n",
       "Soul EV      1\n",
       "500e         1\n",
       "E-Golf       1\n",
       "Niro         1\n",
       "Name: vehicle.model, dtype: int64"
      ]
     },
     "execution_count": 107,
     "metadata": {},
     "output_type": "execute_result"
    }
   ],
   "source": [
    "(dfele['vehicle.model'].value_counts())"
   ]
  },
  {
   "cell_type": "code",
   "execution_count": 108,
   "metadata": {},
   "outputs": [
    {
     "data": {
      "text/plain": [
       "Tesla         545\n",
       "Chevrolet       9\n",
       "BMW             5\n",
       "Nissan          5\n",
       "Kia             2\n",
       "smart           1\n",
       "Volkswagen      1\n",
       "FIAT            1\n",
       "Name: vehicle.make, dtype: int64"
      ]
     },
     "execution_count": 108,
     "metadata": {},
     "output_type": "execute_result"
    }
   ],
   "source": [
    "(dfele['vehicle.make'].value_counts())"
   ]
  },
  {
   "cell_type": "code",
   "execution_count": 109,
   "metadata": {},
   "outputs": [
    {
     "data": {
      "text/plain": [
       "car    446\n",
       "suv    123\n",
       "Name: vehicle.type, dtype: int64"
      ]
     },
     "execution_count": 109,
     "metadata": {},
     "output_type": "execute_result"
    }
   ],
   "source": [
    "(dfele['vehicle.type'].value_counts())"
   ]
  },
  {
   "cell_type": "code",
   "execution_count": 110,
   "metadata": {},
   "outputs": [
    {
     "data": {
      "text/html": [
       "<div>\n",
       "<style scoped>\n",
       "    .dataframe tbody tr th:only-of-type {\n",
       "        vertical-align: middle;\n",
       "    }\n",
       "\n",
       "    .dataframe tbody tr th {\n",
       "        vertical-align: top;\n",
       "    }\n",
       "\n",
       "    .dataframe thead th {\n",
       "        text-align: right;\n",
       "    }\n",
       "</style>\n",
       "<table border=\"1\" class=\"dataframe\">\n",
       "  <thead>\n",
       "    <tr style=\"text-align: right;\">\n",
       "      <th></th>\n",
       "      <th>rating</th>\n",
       "      <th>location.state</th>\n",
       "      <th>rate.daily</th>\n",
       "      <th>vehicle.make</th>\n",
       "      <th>vehicle.model</th>\n",
       "      <th>vehicle.type</th>\n",
       "      <th>vehicle.year</th>\n",
       "    </tr>\n",
       "  </thead>\n",
       "  <tbody>\n",
       "    <tr>\n",
       "      <th>0</th>\n",
       "      <td>5.00</td>\n",
       "      <td>WA</td>\n",
       "      <td>135</td>\n",
       "      <td>Tesla</td>\n",
       "      <td>Model X</td>\n",
       "      <td>suv</td>\n",
       "      <td>2019</td>\n",
       "    </tr>\n",
       "    <tr>\n",
       "      <th>1</th>\n",
       "      <td>5.00</td>\n",
       "      <td>NM</td>\n",
       "      <td>190</td>\n",
       "      <td>Tesla</td>\n",
       "      <td>Model X</td>\n",
       "      <td>suv</td>\n",
       "      <td>2018</td>\n",
       "    </tr>\n",
       "    <tr>\n",
       "      <th>22</th>\n",
       "      <td>5.00</td>\n",
       "      <td>NM</td>\n",
       "      <td>171</td>\n",
       "      <td>Tesla</td>\n",
       "      <td>Model S</td>\n",
       "      <td>car</td>\n",
       "      <td>2015</td>\n",
       "    </tr>\n",
       "    <tr>\n",
       "      <th>39</th>\n",
       "      <td>4.83</td>\n",
       "      <td>GA</td>\n",
       "      <td>146</td>\n",
       "      <td>Tesla</td>\n",
       "      <td>Model 3</td>\n",
       "      <td>car</td>\n",
       "      <td>2020</td>\n",
       "    </tr>\n",
       "    <tr>\n",
       "      <th>49</th>\n",
       "      <td>5.00</td>\n",
       "      <td>GA</td>\n",
       "      <td>134</td>\n",
       "      <td>Tesla</td>\n",
       "      <td>Model 3</td>\n",
       "      <td>car</td>\n",
       "      <td>2018</td>\n",
       "    </tr>\n",
       "    <tr>\n",
       "      <th>...</th>\n",
       "      <td>...</td>\n",
       "      <td>...</td>\n",
       "      <td>...</td>\n",
       "      <td>...</td>\n",
       "      <td>...</td>\n",
       "      <td>...</td>\n",
       "      <td>...</td>\n",
       "    </tr>\n",
       "    <tr>\n",
       "      <th>5723</th>\n",
       "      <td>5.00</td>\n",
       "      <td>HI</td>\n",
       "      <td>150</td>\n",
       "      <td>Tesla</td>\n",
       "      <td>Model 3</td>\n",
       "      <td>car</td>\n",
       "      <td>2018</td>\n",
       "    </tr>\n",
       "    <tr>\n",
       "      <th>5735</th>\n",
       "      <td>5.00</td>\n",
       "      <td>HI</td>\n",
       "      <td>82</td>\n",
       "      <td>Tesla</td>\n",
       "      <td>Model 3</td>\n",
       "      <td>car</td>\n",
       "      <td>2020</td>\n",
       "    </tr>\n",
       "    <tr>\n",
       "      <th>5780</th>\n",
       "      <td>4.88</td>\n",
       "      <td>HI</td>\n",
       "      <td>85</td>\n",
       "      <td>Tesla</td>\n",
       "      <td>Model 3</td>\n",
       "      <td>car</td>\n",
       "      <td>2019</td>\n",
       "    </tr>\n",
       "    <tr>\n",
       "      <th>5785</th>\n",
       "      <td>5.00</td>\n",
       "      <td>HI</td>\n",
       "      <td>50</td>\n",
       "      <td>Nissan</td>\n",
       "      <td>Leaf</td>\n",
       "      <td>car</td>\n",
       "      <td>2015</td>\n",
       "    </tr>\n",
       "    <tr>\n",
       "      <th>5825</th>\n",
       "      <td>5.00</td>\n",
       "      <td>HI</td>\n",
       "      <td>53</td>\n",
       "      <td>Nissan</td>\n",
       "      <td>Leaf</td>\n",
       "      <td>car</td>\n",
       "      <td>2018</td>\n",
       "    </tr>\n",
       "  </tbody>\n",
       "</table>\n",
       "<p>569 rows × 7 columns</p>\n",
       "</div>"
      ],
      "text/plain": [
       "      rating location.state  rate.daily vehicle.make vehicle.model  \\\n",
       "0       5.00             WA         135        Tesla       Model X   \n",
       "1       5.00             NM         190        Tesla       Model X   \n",
       "22      5.00             NM         171        Tesla       Model S   \n",
       "39      4.83             GA         146        Tesla       Model 3   \n",
       "49      5.00             GA         134        Tesla       Model 3   \n",
       "...      ...            ...         ...          ...           ...   \n",
       "5723    5.00             HI         150        Tesla       Model 3   \n",
       "5735    5.00             HI          82        Tesla       Model 3   \n",
       "5780    4.88             HI          85        Tesla       Model 3   \n",
       "5785    5.00             HI          50       Nissan          Leaf   \n",
       "5825    5.00             HI          53       Nissan          Leaf   \n",
       "\n",
       "     vehicle.type  vehicle.year  \n",
       "0             suv          2019  \n",
       "1             suv          2018  \n",
       "22            car          2015  \n",
       "39            car          2020  \n",
       "49            car          2018  \n",
       "...           ...           ...  \n",
       "5723          car          2018  \n",
       "5735          car          2020  \n",
       "5780          car          2019  \n",
       "5785          car          2015  \n",
       "5825          car          2018  \n",
       "\n",
       "[569 rows x 7 columns]"
      ]
     },
     "execution_count": 110,
     "metadata": {},
     "output_type": "execute_result"
    }
   ],
   "source": [
    "dfele"
   ]
  },
  {
   "cell_type": "code",
   "execution_count": 111,
   "metadata": {},
   "outputs": [
    {
     "data": {
      "text/html": [
       "<div>\n",
       "<style scoped>\n",
       "    .dataframe tbody tr th:only-of-type {\n",
       "        vertical-align: middle;\n",
       "    }\n",
       "\n",
       "    .dataframe tbody tr th {\n",
       "        vertical-align: top;\n",
       "    }\n",
       "\n",
       "    .dataframe thead th {\n",
       "        text-align: right;\n",
       "    }\n",
       "</style>\n",
       "<table border=\"1\" class=\"dataframe\">\n",
       "  <thead>\n",
       "    <tr style=\"text-align: right;\">\n",
       "      <th></th>\n",
       "      <th>rating</th>\n",
       "      <th>location.state</th>\n",
       "      <th>rate.daily</th>\n",
       "      <th>vehicle.make</th>\n",
       "      <th>vehicle.model</th>\n",
       "      <th>vehicle.type</th>\n",
       "      <th>vehicle.year</th>\n",
       "    </tr>\n",
       "  </thead>\n",
       "  <tbody>\n",
       "    <tr>\n",
       "      <th>0</th>\n",
       "      <td>5.00</td>\n",
       "      <td>WA</td>\n",
       "      <td>135</td>\n",
       "      <td>Tesla</td>\n",
       "      <td>Model X</td>\n",
       "      <td>suv</td>\n",
       "      <td>2019</td>\n",
       "    </tr>\n",
       "    <tr>\n",
       "      <th>1</th>\n",
       "      <td>5.00</td>\n",
       "      <td>NM</td>\n",
       "      <td>190</td>\n",
       "      <td>Tesla</td>\n",
       "      <td>Model X</td>\n",
       "      <td>suv</td>\n",
       "      <td>2018</td>\n",
       "    </tr>\n",
       "    <tr>\n",
       "      <th>22</th>\n",
       "      <td>5.00</td>\n",
       "      <td>NM</td>\n",
       "      <td>171</td>\n",
       "      <td>Tesla</td>\n",
       "      <td>Model S</td>\n",
       "      <td>car</td>\n",
       "      <td>2015</td>\n",
       "    </tr>\n",
       "    <tr>\n",
       "      <th>39</th>\n",
       "      <td>4.83</td>\n",
       "      <td>GA</td>\n",
       "      <td>146</td>\n",
       "      <td>Tesla</td>\n",
       "      <td>Model 3</td>\n",
       "      <td>car</td>\n",
       "      <td>2020</td>\n",
       "    </tr>\n",
       "    <tr>\n",
       "      <th>49</th>\n",
       "      <td>5.00</td>\n",
       "      <td>GA</td>\n",
       "      <td>134</td>\n",
       "      <td>Tesla</td>\n",
       "      <td>Model 3</td>\n",
       "      <td>car</td>\n",
       "      <td>2018</td>\n",
       "    </tr>\n",
       "    <tr>\n",
       "      <th>...</th>\n",
       "      <td>...</td>\n",
       "      <td>...</td>\n",
       "      <td>...</td>\n",
       "      <td>...</td>\n",
       "      <td>...</td>\n",
       "      <td>...</td>\n",
       "      <td>...</td>\n",
       "    </tr>\n",
       "    <tr>\n",
       "      <th>5723</th>\n",
       "      <td>5.00</td>\n",
       "      <td>HI</td>\n",
       "      <td>150</td>\n",
       "      <td>Tesla</td>\n",
       "      <td>Model 3</td>\n",
       "      <td>car</td>\n",
       "      <td>2018</td>\n",
       "    </tr>\n",
       "    <tr>\n",
       "      <th>5735</th>\n",
       "      <td>5.00</td>\n",
       "      <td>HI</td>\n",
       "      <td>82</td>\n",
       "      <td>Tesla</td>\n",
       "      <td>Model 3</td>\n",
       "      <td>car</td>\n",
       "      <td>2020</td>\n",
       "    </tr>\n",
       "    <tr>\n",
       "      <th>5780</th>\n",
       "      <td>4.88</td>\n",
       "      <td>HI</td>\n",
       "      <td>85</td>\n",
       "      <td>Tesla</td>\n",
       "      <td>Model 3</td>\n",
       "      <td>car</td>\n",
       "      <td>2019</td>\n",
       "    </tr>\n",
       "    <tr>\n",
       "      <th>5785</th>\n",
       "      <td>5.00</td>\n",
       "      <td>HI</td>\n",
       "      <td>50</td>\n",
       "      <td>Nissan</td>\n",
       "      <td>Leaf</td>\n",
       "      <td>car</td>\n",
       "      <td>2015</td>\n",
       "    </tr>\n",
       "    <tr>\n",
       "      <th>5825</th>\n",
       "      <td>5.00</td>\n",
       "      <td>HI</td>\n",
       "      <td>53</td>\n",
       "      <td>Nissan</td>\n",
       "      <td>Leaf</td>\n",
       "      <td>car</td>\n",
       "      <td>2018</td>\n",
       "    </tr>\n",
       "  </tbody>\n",
       "</table>\n",
       "<p>569 rows × 7 columns</p>\n",
       "</div>"
      ],
      "text/plain": [
       "      rating location.state  rate.daily vehicle.make vehicle.model  \\\n",
       "0       5.00             WA         135        Tesla       Model X   \n",
       "1       5.00             NM         190        Tesla       Model X   \n",
       "22      5.00             NM         171        Tesla       Model S   \n",
       "39      4.83             GA         146        Tesla       Model 3   \n",
       "49      5.00             GA         134        Tesla       Model 3   \n",
       "...      ...            ...         ...          ...           ...   \n",
       "5723    5.00             HI         150        Tesla       Model 3   \n",
       "5735    5.00             HI          82        Tesla       Model 3   \n",
       "5780    4.88             HI          85        Tesla       Model 3   \n",
       "5785    5.00             HI          50       Nissan          Leaf   \n",
       "5825    5.00             HI          53       Nissan          Leaf   \n",
       "\n",
       "     vehicle.type  vehicle.year  \n",
       "0             suv          2019  \n",
       "1             suv          2018  \n",
       "22            car          2015  \n",
       "39            car          2020  \n",
       "49            car          2018  \n",
       "...           ...           ...  \n",
       "5723          car          2018  \n",
       "5735          car          2020  \n",
       "5780          car          2019  \n",
       "5785          car          2015  \n",
       "5825          car          2018  \n",
       "\n",
       "[569 rows x 7 columns]"
      ]
     },
     "execution_count": 111,
     "metadata": {},
     "output_type": "execute_result"
    }
   ],
   "source": [
    "dfele"
   ]
  },
  {
   "cell_type": "markdown",
   "metadata": {},
   "source": [
    "### One Hot Encoding"
   ]
  },
  {
   "cell_type": "code",
   "execution_count": 112,
   "metadata": {},
   "outputs": [],
   "source": [
    "\n",
    "dfele = pd.get_dummies(data=dfele, columns=['location.state'])"
   ]
  },
  {
   "cell_type": "code",
   "execution_count": 113,
   "metadata": {},
   "outputs": [],
   "source": [
    "dfele = pd.get_dummies(data=dfele, columns=['vehicle.make'])"
   ]
  },
  {
   "cell_type": "code",
   "execution_count": 114,
   "metadata": {},
   "outputs": [],
   "source": [
    "dfele = pd.get_dummies(data=dfele, columns=['vehicle.model'])"
   ]
  },
  {
   "cell_type": "code",
   "execution_count": 115,
   "metadata": {},
   "outputs": [],
   "source": [
    "dfele = pd.get_dummies(data=dfele, columns=['vehicle.type'])"
   ]
  },
  {
   "cell_type": "code",
   "execution_count": 116,
   "metadata": {},
   "outputs": [
    {
     "data": {
      "text/html": [
       "<div>\n",
       "<style scoped>\n",
       "    .dataframe tbody tr th:only-of-type {\n",
       "        vertical-align: middle;\n",
       "    }\n",
       "\n",
       "    .dataframe tbody tr th {\n",
       "        vertical-align: top;\n",
       "    }\n",
       "\n",
       "    .dataframe thead th {\n",
       "        text-align: right;\n",
       "    }\n",
       "</style>\n",
       "<table border=\"1\" class=\"dataframe\">\n",
       "  <thead>\n",
       "    <tr style=\"text-align: right;\">\n",
       "      <th></th>\n",
       "      <th>rating</th>\n",
       "      <th>rate.daily</th>\n",
       "      <th>vehicle.year</th>\n",
       "      <th>location.state_AK</th>\n",
       "      <th>location.state_AL</th>\n",
       "      <th>location.state_AZ</th>\n",
       "      <th>location.state_CA</th>\n",
       "      <th>location.state_CO</th>\n",
       "      <th>location.state_CT</th>\n",
       "      <th>location.state_FL</th>\n",
       "      <th>...</th>\n",
       "      <th>vehicle.model_Model 3</th>\n",
       "      <th>vehicle.model_Model S</th>\n",
       "      <th>vehicle.model_Model X</th>\n",
       "      <th>vehicle.model_Model Y</th>\n",
       "      <th>vehicle.model_Niro</th>\n",
       "      <th>vehicle.model_Soul EV</th>\n",
       "      <th>vehicle.model_fortwo</th>\n",
       "      <th>vehicle.model_i3</th>\n",
       "      <th>vehicle.type_car</th>\n",
       "      <th>vehicle.type_suv</th>\n",
       "    </tr>\n",
       "  </thead>\n",
       "  <tbody>\n",
       "    <tr>\n",
       "      <th>0</th>\n",
       "      <td>5.00</td>\n",
       "      <td>135</td>\n",
       "      <td>2019</td>\n",
       "      <td>0</td>\n",
       "      <td>0</td>\n",
       "      <td>0</td>\n",
       "      <td>0</td>\n",
       "      <td>0</td>\n",
       "      <td>0</td>\n",
       "      <td>0</td>\n",
       "      <td>...</td>\n",
       "      <td>0</td>\n",
       "      <td>0</td>\n",
       "      <td>1</td>\n",
       "      <td>0</td>\n",
       "      <td>0</td>\n",
       "      <td>0</td>\n",
       "      <td>0</td>\n",
       "      <td>0</td>\n",
       "      <td>0</td>\n",
       "      <td>1</td>\n",
       "    </tr>\n",
       "    <tr>\n",
       "      <th>1</th>\n",
       "      <td>5.00</td>\n",
       "      <td>190</td>\n",
       "      <td>2018</td>\n",
       "      <td>0</td>\n",
       "      <td>0</td>\n",
       "      <td>0</td>\n",
       "      <td>0</td>\n",
       "      <td>0</td>\n",
       "      <td>0</td>\n",
       "      <td>0</td>\n",
       "      <td>...</td>\n",
       "      <td>0</td>\n",
       "      <td>0</td>\n",
       "      <td>1</td>\n",
       "      <td>0</td>\n",
       "      <td>0</td>\n",
       "      <td>0</td>\n",
       "      <td>0</td>\n",
       "      <td>0</td>\n",
       "      <td>0</td>\n",
       "      <td>1</td>\n",
       "    </tr>\n",
       "    <tr>\n",
       "      <th>22</th>\n",
       "      <td>5.00</td>\n",
       "      <td>171</td>\n",
       "      <td>2015</td>\n",
       "      <td>0</td>\n",
       "      <td>0</td>\n",
       "      <td>0</td>\n",
       "      <td>0</td>\n",
       "      <td>0</td>\n",
       "      <td>0</td>\n",
       "      <td>0</td>\n",
       "      <td>...</td>\n",
       "      <td>0</td>\n",
       "      <td>1</td>\n",
       "      <td>0</td>\n",
       "      <td>0</td>\n",
       "      <td>0</td>\n",
       "      <td>0</td>\n",
       "      <td>0</td>\n",
       "      <td>0</td>\n",
       "      <td>1</td>\n",
       "      <td>0</td>\n",
       "    </tr>\n",
       "    <tr>\n",
       "      <th>39</th>\n",
       "      <td>4.83</td>\n",
       "      <td>146</td>\n",
       "      <td>2020</td>\n",
       "      <td>0</td>\n",
       "      <td>0</td>\n",
       "      <td>0</td>\n",
       "      <td>0</td>\n",
       "      <td>0</td>\n",
       "      <td>0</td>\n",
       "      <td>0</td>\n",
       "      <td>...</td>\n",
       "      <td>1</td>\n",
       "      <td>0</td>\n",
       "      <td>0</td>\n",
       "      <td>0</td>\n",
       "      <td>0</td>\n",
       "      <td>0</td>\n",
       "      <td>0</td>\n",
       "      <td>0</td>\n",
       "      <td>1</td>\n",
       "      <td>0</td>\n",
       "    </tr>\n",
       "    <tr>\n",
       "      <th>49</th>\n",
       "      <td>5.00</td>\n",
       "      <td>134</td>\n",
       "      <td>2018</td>\n",
       "      <td>0</td>\n",
       "      <td>0</td>\n",
       "      <td>0</td>\n",
       "      <td>0</td>\n",
       "      <td>0</td>\n",
       "      <td>0</td>\n",
       "      <td>0</td>\n",
       "      <td>...</td>\n",
       "      <td>1</td>\n",
       "      <td>0</td>\n",
       "      <td>0</td>\n",
       "      <td>0</td>\n",
       "      <td>0</td>\n",
       "      <td>0</td>\n",
       "      <td>0</td>\n",
       "      <td>0</td>\n",
       "      <td>1</td>\n",
       "      <td>0</td>\n",
       "    </tr>\n",
       "    <tr>\n",
       "      <th>...</th>\n",
       "      <td>...</td>\n",
       "      <td>...</td>\n",
       "      <td>...</td>\n",
       "      <td>...</td>\n",
       "      <td>...</td>\n",
       "      <td>...</td>\n",
       "      <td>...</td>\n",
       "      <td>...</td>\n",
       "      <td>...</td>\n",
       "      <td>...</td>\n",
       "      <td>...</td>\n",
       "      <td>...</td>\n",
       "      <td>...</td>\n",
       "      <td>...</td>\n",
       "      <td>...</td>\n",
       "      <td>...</td>\n",
       "      <td>...</td>\n",
       "      <td>...</td>\n",
       "      <td>...</td>\n",
       "      <td>...</td>\n",
       "      <td>...</td>\n",
       "    </tr>\n",
       "    <tr>\n",
       "      <th>5723</th>\n",
       "      <td>5.00</td>\n",
       "      <td>150</td>\n",
       "      <td>2018</td>\n",
       "      <td>0</td>\n",
       "      <td>0</td>\n",
       "      <td>0</td>\n",
       "      <td>0</td>\n",
       "      <td>0</td>\n",
       "      <td>0</td>\n",
       "      <td>0</td>\n",
       "      <td>...</td>\n",
       "      <td>1</td>\n",
       "      <td>0</td>\n",
       "      <td>0</td>\n",
       "      <td>0</td>\n",
       "      <td>0</td>\n",
       "      <td>0</td>\n",
       "      <td>0</td>\n",
       "      <td>0</td>\n",
       "      <td>1</td>\n",
       "      <td>0</td>\n",
       "    </tr>\n",
       "    <tr>\n",
       "      <th>5735</th>\n",
       "      <td>5.00</td>\n",
       "      <td>82</td>\n",
       "      <td>2020</td>\n",
       "      <td>0</td>\n",
       "      <td>0</td>\n",
       "      <td>0</td>\n",
       "      <td>0</td>\n",
       "      <td>0</td>\n",
       "      <td>0</td>\n",
       "      <td>0</td>\n",
       "      <td>...</td>\n",
       "      <td>1</td>\n",
       "      <td>0</td>\n",
       "      <td>0</td>\n",
       "      <td>0</td>\n",
       "      <td>0</td>\n",
       "      <td>0</td>\n",
       "      <td>0</td>\n",
       "      <td>0</td>\n",
       "      <td>1</td>\n",
       "      <td>0</td>\n",
       "    </tr>\n",
       "    <tr>\n",
       "      <th>5780</th>\n",
       "      <td>4.88</td>\n",
       "      <td>85</td>\n",
       "      <td>2019</td>\n",
       "      <td>0</td>\n",
       "      <td>0</td>\n",
       "      <td>0</td>\n",
       "      <td>0</td>\n",
       "      <td>0</td>\n",
       "      <td>0</td>\n",
       "      <td>0</td>\n",
       "      <td>...</td>\n",
       "      <td>1</td>\n",
       "      <td>0</td>\n",
       "      <td>0</td>\n",
       "      <td>0</td>\n",
       "      <td>0</td>\n",
       "      <td>0</td>\n",
       "      <td>0</td>\n",
       "      <td>0</td>\n",
       "      <td>1</td>\n",
       "      <td>0</td>\n",
       "    </tr>\n",
       "    <tr>\n",
       "      <th>5785</th>\n",
       "      <td>5.00</td>\n",
       "      <td>50</td>\n",
       "      <td>2015</td>\n",
       "      <td>0</td>\n",
       "      <td>0</td>\n",
       "      <td>0</td>\n",
       "      <td>0</td>\n",
       "      <td>0</td>\n",
       "      <td>0</td>\n",
       "      <td>0</td>\n",
       "      <td>...</td>\n",
       "      <td>0</td>\n",
       "      <td>0</td>\n",
       "      <td>0</td>\n",
       "      <td>0</td>\n",
       "      <td>0</td>\n",
       "      <td>0</td>\n",
       "      <td>0</td>\n",
       "      <td>0</td>\n",
       "      <td>1</td>\n",
       "      <td>0</td>\n",
       "    </tr>\n",
       "    <tr>\n",
       "      <th>5825</th>\n",
       "      <td>5.00</td>\n",
       "      <td>53</td>\n",
       "      <td>2018</td>\n",
       "      <td>0</td>\n",
       "      <td>0</td>\n",
       "      <td>0</td>\n",
       "      <td>0</td>\n",
       "      <td>0</td>\n",
       "      <td>0</td>\n",
       "      <td>0</td>\n",
       "      <td>...</td>\n",
       "      <td>0</td>\n",
       "      <td>0</td>\n",
       "      <td>0</td>\n",
       "      <td>0</td>\n",
       "      <td>0</td>\n",
       "      <td>0</td>\n",
       "      <td>0</td>\n",
       "      <td>0</td>\n",
       "      <td>1</td>\n",
       "      <td>0</td>\n",
       "    </tr>\n",
       "  </tbody>\n",
       "</table>\n",
       "<p>569 rows × 64 columns</p>\n",
       "</div>"
      ],
      "text/plain": [
       "      rating  rate.daily  vehicle.year  location.state_AK  location.state_AL  \\\n",
       "0       5.00         135          2019                  0                  0   \n",
       "1       5.00         190          2018                  0                  0   \n",
       "22      5.00         171          2015                  0                  0   \n",
       "39      4.83         146          2020                  0                  0   \n",
       "49      5.00         134          2018                  0                  0   \n",
       "...      ...         ...           ...                ...                ...   \n",
       "5723    5.00         150          2018                  0                  0   \n",
       "5735    5.00          82          2020                  0                  0   \n",
       "5780    4.88          85          2019                  0                  0   \n",
       "5785    5.00          50          2015                  0                  0   \n",
       "5825    5.00          53          2018                  0                  0   \n",
       "\n",
       "      location.state_AZ  location.state_CA  location.state_CO  \\\n",
       "0                     0                  0                  0   \n",
       "1                     0                  0                  0   \n",
       "22                    0                  0                  0   \n",
       "39                    0                  0                  0   \n",
       "49                    0                  0                  0   \n",
       "...                 ...                ...                ...   \n",
       "5723                  0                  0                  0   \n",
       "5735                  0                  0                  0   \n",
       "5780                  0                  0                  0   \n",
       "5785                  0                  0                  0   \n",
       "5825                  0                  0                  0   \n",
       "\n",
       "      location.state_CT  location.state_FL  ...  vehicle.model_Model 3  \\\n",
       "0                     0                  0  ...                      0   \n",
       "1                     0                  0  ...                      0   \n",
       "22                    0                  0  ...                      0   \n",
       "39                    0                  0  ...                      1   \n",
       "49                    0                  0  ...                      1   \n",
       "...                 ...                ...  ...                    ...   \n",
       "5723                  0                  0  ...                      1   \n",
       "5735                  0                  0  ...                      1   \n",
       "5780                  0                  0  ...                      1   \n",
       "5785                  0                  0  ...                      0   \n",
       "5825                  0                  0  ...                      0   \n",
       "\n",
       "      vehicle.model_Model S  vehicle.model_Model X  vehicle.model_Model Y  \\\n",
       "0                         0                      1                      0   \n",
       "1                         0                      1                      0   \n",
       "22                        1                      0                      0   \n",
       "39                        0                      0                      0   \n",
       "49                        0                      0                      0   \n",
       "...                     ...                    ...                    ...   \n",
       "5723                      0                      0                      0   \n",
       "5735                      0                      0                      0   \n",
       "5780                      0                      0                      0   \n",
       "5785                      0                      0                      0   \n",
       "5825                      0                      0                      0   \n",
       "\n",
       "      vehicle.model_Niro  vehicle.model_Soul EV  vehicle.model_fortwo  \\\n",
       "0                      0                      0                     0   \n",
       "1                      0                      0                     0   \n",
       "22                     0                      0                     0   \n",
       "39                     0                      0                     0   \n",
       "49                     0                      0                     0   \n",
       "...                  ...                    ...                   ...   \n",
       "5723                   0                      0                     0   \n",
       "5735                   0                      0                     0   \n",
       "5780                   0                      0                     0   \n",
       "5785                   0                      0                     0   \n",
       "5825                   0                      0                     0   \n",
       "\n",
       "      vehicle.model_i3  vehicle.type_car  vehicle.type_suv  \n",
       "0                    0                 0                 1  \n",
       "1                    0                 0                 1  \n",
       "22                   0                 1                 0  \n",
       "39                   0                 1                 0  \n",
       "49                   0                 1                 0  \n",
       "...                ...               ...               ...  \n",
       "5723                 0                 1                 0  \n",
       "5735                 0                 1                 0  \n",
       "5780                 0                 1                 0  \n",
       "5785                 0                 1                 0  \n",
       "5825                 0                 1                 0  \n",
       "\n",
       "[569 rows x 64 columns]"
      ]
     },
     "execution_count": 116,
     "metadata": {},
     "output_type": "execute_result"
    }
   ],
   "source": [
    "dfele"
   ]
  },
  {
   "cell_type": "markdown",
   "metadata": {},
   "source": [
    "### Splitting Data"
   ]
  },
  {
   "cell_type": "code",
   "execution_count": 117,
   "metadata": {},
   "outputs": [],
   "source": [
    "from sklearn.model_selection import train_test_split"
   ]
  },
  {
   "cell_type": "code",
   "execution_count": 118,
   "metadata": {},
   "outputs": [],
   "source": [
    "X = dfele.drop(columns='rate.daily')\n",
    "y = dfele['rate.daily']"
   ]
  },
  {
   "cell_type": "code",
   "execution_count": 119,
   "metadata": {},
   "outputs": [],
   "source": [
    "X_train, X_test, y_train, y_test = train_test_split(X, y, test_size=0.3, random_state=101)"
   ]
  },
  {
   "cell_type": "markdown",
   "metadata": {},
   "source": [
    "### Machine Learning Modelling"
   ]
  },
  {
   "cell_type": "code",
   "execution_count": 120,
   "metadata": {},
   "outputs": [],
   "source": [
    "from sklearn.linear_model import LogisticRegression"
   ]
  },
  {
   "cell_type": "markdown",
   "metadata": {},
   "source": [
    "## Model Logistic Regression Base"
   ]
  },
  {
   "cell_type": "code",
   "execution_count": 121,
   "metadata": {},
   "outputs": [],
   "source": [
    "modelLog = LogisticRegression()"
   ]
  },
  {
   "cell_type": "code",
   "execution_count": 122,
   "metadata": {},
   "outputs": [
    {
     "data": {
      "text/plain": [
       "LogisticRegression()"
      ]
     },
     "execution_count": 122,
     "metadata": {},
     "output_type": "execute_result"
    }
   ],
   "source": [
    "modelLog.fit(X_train, y_train)"
   ]
  },
  {
   "cell_type": "code",
   "execution_count": 123,
   "metadata": {},
   "outputs": [
    {
     "data": {
      "text/plain": [
       "array([ 99,  99,  89, 154, 149,  99,  99,  89,  89, 100,  89,  89, 200,\n",
       "       129, 130,  89, 200,  49,  99, 138, 189, 150, 150,  89, 119,  49,\n",
       "        99, 100, 200,  99, 119, 150,  89, 145, 135, 100, 189, 200, 100,\n",
       "       150,  89, 100, 200,  40,  99, 129, 119, 179, 100, 100,  89, 189,\n",
       "        99,  53, 138, 199, 150, 179, 100,  89,  99,  89, 119, 179,  89,\n",
       "       130, 189, 179, 150,  99,  89, 199,  99,  99, 138,  89, 100, 179,\n",
       "       150, 129, 150,  99,  99, 150,  89,  99,  99, 129,  89, 150,  99,\n",
       "       199, 119, 189,  99,  89,  89,  99, 119, 150, 100, 119,  89, 199,\n",
       "        89, 150,  89,  99, 154, 150, 199,  99, 150, 199,  89,  99, 150,\n",
       "        89, 150, 179, 130,  99,  89, 119, 119, 150,  99, 149,  89, 100,\n",
       "        99, 179, 130,  99, 154, 130,  99,  49,  99,  99,  89,  89, 189,\n",
       "        89,  89, 145, 150, 100, 130, 130, 189, 154, 138,  99,  89,  89,\n",
       "        89, 150, 189,  99, 130,  80,  99, 149, 200, 150, 189,  89, 100,\n",
       "       119, 100], dtype=int64)"
      ]
     },
     "execution_count": 123,
     "metadata": {},
     "output_type": "execute_result"
    }
   ],
   "source": [
    "modelLog.predict(X_test)"
   ]
  },
  {
   "cell_type": "code",
   "execution_count": 124,
   "metadata": {},
   "outputs": [],
   "source": [
    "from sklearn.neighbors import KNeighborsClassifier"
   ]
  },
  {
   "cell_type": "markdown",
   "metadata": {},
   "source": [
    "### Model KNN Base"
   ]
  },
  {
   "cell_type": "code",
   "execution_count": 125,
   "metadata": {},
   "outputs": [],
   "source": [
    "modelKNN = KNeighborsClassifier()"
   ]
  },
  {
   "cell_type": "code",
   "execution_count": 126,
   "metadata": {},
   "outputs": [
    {
     "data": {
      "text/plain": [
       "KNeighborsClassifier()"
      ]
     },
     "execution_count": 126,
     "metadata": {},
     "output_type": "execute_result"
    }
   ],
   "source": [
    "modelKNN.fit(X_train, y_train)"
   ]
  },
  {
   "cell_type": "code",
   "execution_count": 127,
   "metadata": {},
   "outputs": [
    {
     "data": {
      "text/plain": [
       "array([148,  96,  74, 154,  76, 129,  99,  70,  89,  99,  79,  89, 150,\n",
       "       104,  89,  89, 115,  44,  91, 189, 132, 123,  49,  89,  79,  40,\n",
       "        91, 115, 115, 142, 105, 174,  70, 123, 139,  73, 123,  73,  92,\n",
       "       146,  79, 100,  73,  69,  99, 104, 105, 129,  85,  99,  89, 135,\n",
       "       142,  55, 138, 129, 105, 119,  89,  89, 148,  89,  82, 124,  90,\n",
       "       100, 123, 145, 129,  99,  91, 135,  99,  90, 140,  89, 105, 139,\n",
       "        95,  95,  84,  85,  92, 139,  79,  99,  99,  97,  79,  84,  75,\n",
       "       105,  79, 138, 150,  70,  89, 148,  90, 129,  92, 117,  89, 124,\n",
       "        79, 115,  89,  91, 154, 146, 124,  84, 154, 119,  70, 148, 115,\n",
       "        90,  94, 145, 100,  99,  70,  80,  79, 150,  92,  76,  70,  94,\n",
       "        99, 150, 122, 145, 154,  89,  99,  49,  80,  99,  89,  89, 139,\n",
       "        89,  91, 154,  89,  92, 100, 100, 123, 154, 138,  96,  89,  79,\n",
       "        89,  84, 154, 148, 100,  89,  99,  74, 154, 115, 123,  69,  90,\n",
       "       119, 130], dtype=int64)"
      ]
     },
     "execution_count": 127,
     "metadata": {},
     "output_type": "execute_result"
    }
   ],
   "source": [
    "modelKNN.predict(X_test)"
   ]
  },
  {
   "cell_type": "markdown",
   "metadata": {},
   "source": [
    "### Evaluation Metrics"
   ]
  },
  {
   "cell_type": "code",
   "execution_count": 128,
   "metadata": {},
   "outputs": [],
   "source": [
    "from sklearn.metrics import classification_report, confusion_matrix, recall_score, precision_score, f1_score, accuracy_score"
   ]
  },
  {
   "cell_type": "markdown",
   "metadata": {},
   "source": [
    "### Evaluasi LogReg Base"
   ]
  },
  {
   "cell_type": "code",
   "execution_count": 129,
   "metadata": {},
   "outputs": [],
   "source": [
    "y_pred = modelLog.predict(X_test)"
   ]
  },
  {
   "cell_type": "code",
   "execution_count": 130,
   "metadata": {},
   "outputs": [
    {
     "data": {
      "text/plain": [
       "0.03508771929824561"
      ]
     },
     "execution_count": 130,
     "metadata": {},
     "output_type": "execute_result"
    }
   ],
   "source": [
    "acc_LogReg = accuracy_score(y_test, y_pred)\n",
    "acc_LogReg"
   ]
  },
  {
   "cell_type": "code",
   "execution_count": 131,
   "metadata": {},
   "outputs": [
    {
     "name": "stdout",
     "output_type": "stream",
     "text": [
      "              precision    recall  f1-score   support\n",
      "\n",
      "          40       0.00      0.00      0.00         1\n",
      "          48       0.00      0.00      0.00         1\n",
      "          49       0.33      1.00      0.50         1\n",
      "          50       0.00      0.00      0.00         1\n",
      "          53       0.00      0.00      0.00         0\n",
      "          54       0.00      0.00      0.00         1\n",
      "          55       0.00      0.00      0.00         1\n",
      "          62       0.00      0.00      0.00         1\n",
      "          70       0.00      0.00      0.00         2\n",
      "          75       0.00      0.00      0.00         1\n",
      "          78       0.00      0.00      0.00         1\n",
      "          79       0.00      0.00      0.00         1\n",
      "          80       0.00      0.00      0.00         0\n",
      "          82       0.00      0.00      0.00         1\n",
      "          85       0.00      0.00      0.00         1\n",
      "          86       0.00      0.00      0.00         1\n",
      "          87       0.00      0.00      0.00         1\n",
      "          89       0.00      0.00      0.00         1\n",
      "          90       0.00      0.00      0.00         2\n",
      "          94       0.00      0.00      0.00         3\n",
      "          95       0.00      0.00      0.00         1\n",
      "          96       0.00      0.00      0.00         2\n",
      "          98       0.00      0.00      0.00         3\n",
      "          99       0.00      0.00      0.00         9\n",
      "         100       0.14      0.40      0.21         5\n",
      "         101       0.00      0.00      0.00         2\n",
      "         102       0.00      0.00      0.00         1\n",
      "         103       0.00      0.00      0.00         1\n",
      "         106       0.00      0.00      0.00         1\n",
      "         109       0.00      0.00      0.00         4\n",
      "         110       0.00      0.00      0.00         4\n",
      "         114       0.00      0.00      0.00         1\n",
      "         115       0.00      0.00      0.00         2\n",
      "         116       0.00      0.00      0.00         1\n",
      "         117       0.00      0.00      0.00         2\n",
      "         118       0.00      0.00      0.00         1\n",
      "         119       0.00      0.00      0.00         3\n",
      "         120       0.00      0.00      0.00         7\n",
      "         123       0.00      0.00      0.00         2\n",
      "         124       0.00      0.00      0.00         3\n",
      "         125       0.00      0.00      0.00         3\n",
      "         129       0.00      0.00      0.00         2\n",
      "         130       0.00      0.00      0.00         5\n",
      "         131       0.00      0.00      0.00         1\n",
      "         133       0.00      0.00      0.00         3\n",
      "         134       0.00      0.00      0.00         2\n",
      "         135       0.00      0.00      0.00         4\n",
      "         137       0.00      0.00      0.00         1\n",
      "         138       0.00      0.00      0.00         2\n",
      "         139       0.00      0.00      0.00         5\n",
      "         140       0.00      0.00      0.00         2\n",
      "         141       0.00      0.00      0.00         2\n",
      "         143       0.00      0.00      0.00         1\n",
      "         145       0.00      0.00      0.00         3\n",
      "         146       0.00      0.00      0.00         1\n",
      "         148       0.00      0.00      0.00         1\n",
      "         149       0.33      0.14      0.20         7\n",
      "         150       0.05      1.00      0.10         1\n",
      "         151       0.00      0.00      0.00         1\n",
      "         152       0.00      0.00      0.00         1\n",
      "         154       0.25      1.00      0.40         1\n",
      "         160       0.00      0.00      0.00         1\n",
      "         164       0.00      0.00      0.00         1\n",
      "         166       0.00      0.00      0.00         1\n",
      "         167       0.00      0.00      0.00         1\n",
      "         168       0.00      0.00      0.00         2\n",
      "         169       0.00      0.00      0.00         1\n",
      "         171       0.00      0.00      0.00         1\n",
      "         174       0.00      0.00      0.00         2\n",
      "         179       0.00      0.00      0.00         3\n",
      "         189       0.00      0.00      0.00         2\n",
      "         190       0.00      0.00      0.00         1\n",
      "         193       0.00      0.00      0.00         2\n",
      "         198       0.00      0.00      0.00         1\n",
      "         199       0.00      0.00      0.00         3\n",
      "         200       0.00      0.00      0.00         3\n",
      "         205       0.00      0.00      0.00         1\n",
      "         207       0.00      0.00      0.00         1\n",
      "         209       0.00      0.00      0.00         2\n",
      "         211       0.00      0.00      0.00         1\n",
      "         220       0.00      0.00      0.00         3\n",
      "         225       0.00      0.00      0.00         1\n",
      "         234       0.00      0.00      0.00         1\n",
      "         235       0.00      0.00      0.00         1\n",
      "         250       0.00      0.00      0.00         2\n",
      "         265       0.00      0.00      0.00         1\n",
      "         269       0.00      0.00      0.00         1\n",
      "         295       0.00      0.00      0.00         1\n",
      "         300       0.00      0.00      0.00         1\n",
      "         350       0.00      0.00      0.00         1\n",
      "         399       0.00      0.00      0.00         1\n",
      "         475       0.00      0.00      0.00         1\n",
      "\n",
      "    accuracy                           0.04       171\n",
      "   macro avg       0.01      0.04      0.02       171\n",
      "weighted avg       0.02      0.04      0.02       171\n",
      "\n"
     ]
    }
   ],
   "source": [
    "print(classification_report(y_test, y_pred))"
   ]
  },
  {
   "cell_type": "code",
   "execution_count": 132,
   "metadata": {},
   "outputs": [],
   "source": [
    "cm = confusion_matrix(y_test, y_pred)"
   ]
  },
  {
   "cell_type": "code",
   "execution_count": 133,
   "metadata": {},
   "outputs": [],
   "source": [
    "df_cm = pd.DataFrame(data=cm)"
   ]
  },
  {
   "cell_type": "code",
   "execution_count": 134,
   "metadata": {},
   "outputs": [
    {
     "data": {
      "image/png": "[encoded data removed]",
      "text/plain": [
       "<Figure size 432x288 with 2 Axes>"
      ]
     },
     "metadata": {},
     "output_type": "display_data"
    }
   ],
   "source": [
    "sns.heatmap(df_cm, annot=True)\n",
    "plt.show()"
   ]
  },
  {
   "cell_type": "markdown",
   "metadata": {},
   "source": [
    "### Evaluation Matrix Base KNN"
   ]
  },
  {
   "cell_type": "code",
   "execution_count": 135,
   "metadata": {},
   "outputs": [],
   "source": [
    "y_KNN = modelKNN.predict(X_test)"
   ]
  },
  {
   "cell_type": "code",
   "execution_count": 136,
   "metadata": {},
   "outputs": [
    {
     "data": {
      "text/plain": [
       "0.029239766081871343"
      ]
     },
     "execution_count": 136,
     "metadata": {},
     "output_type": "execute_result"
    }
   ],
   "source": [
    "acc_KNN = accuracy_score(y_test, y_KNN)\n",
    "acc_KNN"
   ]
  },
  {
   "cell_type": "code",
   "execution_count": 137,
   "metadata": {},
   "outputs": [
    {
     "name": "stdout",
     "output_type": "stream",
     "text": [
      "              precision    recall  f1-score   support\n",
      "\n",
      "          40       0.00      0.00      0.00         1\n",
      "          44       0.00      0.00      0.00         0\n",
      "          48       0.00      0.00      0.00         1\n",
      "          49       0.00      0.00      0.00         1\n",
      "          50       0.00      0.00      0.00         1\n",
      "          54       0.00      0.00      0.00         1\n",
      "          55       0.00      0.00      0.00         1\n",
      "          62       0.00      0.00      0.00         1\n",
      "          69       0.00      0.00      0.00         0\n",
      "          70       0.00      0.00      0.00         2\n",
      "          73       0.00      0.00      0.00         0\n",
      "          74       0.00      0.00      0.00         0\n",
      "          75       0.00      0.00      0.00         1\n",
      "          76       0.00      0.00      0.00         0\n",
      "          78       0.00      0.00      0.00         1\n",
      "          79       0.00      0.00      0.00         1\n",
      "          80       0.00      0.00      0.00         0\n",
      "          82       0.00      0.00      0.00         1\n",
      "          84       0.00      0.00      0.00         0\n",
      "          85       0.00      0.00      0.00         1\n",
      "          86       0.00      0.00      0.00         1\n",
      "          87       0.00      0.00      0.00         1\n",
      "          89       0.00      0.00      0.00         1\n",
      "          90       0.00      0.00      0.00         2\n",
      "          91       0.00      0.00      0.00         0\n",
      "          92       0.00      0.00      0.00         0\n",
      "          94       0.00      0.00      0.00         3\n",
      "          95       0.00      0.00      0.00         1\n",
      "          96       0.00      0.00      0.00         2\n",
      "          97       0.00      0.00      0.00         0\n",
      "          98       0.00      0.00      0.00         3\n",
      "          99       0.00      0.00      0.00         9\n",
      "         100       0.17      0.20      0.18         5\n",
      "         101       0.00      0.00      0.00         2\n",
      "         102       0.00      0.00      0.00         1\n",
      "         103       0.00      0.00      0.00         1\n",
      "         104       0.00      0.00      0.00         0\n",
      "         105       0.00      0.00      0.00         0\n",
      "         106       0.00      0.00      0.00         1\n",
      "         109       0.00      0.00      0.00         4\n",
      "         110       0.00      0.00      0.00         4\n",
      "         114       0.00      0.00      0.00         1\n",
      "         115       0.00      0.00      0.00         2\n",
      "         116       0.00      0.00      0.00         1\n",
      "         117       0.00      0.00      0.00         2\n",
      "         118       0.00      0.00      0.00         1\n",
      "         119       0.00      0.00      0.00         3\n",
      "         120       0.00      0.00      0.00         7\n",
      "         122       0.00      0.00      0.00         0\n",
      "         123       0.17      0.50      0.25         2\n",
      "         124       0.33      0.33      0.33         3\n",
      "         125       0.00      0.00      0.00         3\n",
      "         129       0.00      0.00      0.00         2\n",
      "         130       0.00      0.00      0.00         5\n",
      "         131       0.00      0.00      0.00         1\n",
      "         132       0.00      0.00      0.00         0\n",
      "         133       0.00      0.00      0.00         3\n",
      "         134       0.00      0.00      0.00         2\n",
      "         135       0.00      0.00      0.00         4\n",
      "         137       0.00      0.00      0.00         1\n",
      "         138       0.00      0.00      0.00         2\n",
      "         139       0.00      0.00      0.00         5\n",
      "         140       0.00      0.00      0.00         2\n",
      "         141       0.00      0.00      0.00         2\n",
      "         142       0.00      0.00      0.00         0\n",
      "         143       0.00      0.00      0.00         1\n",
      "         145       0.00      0.00      0.00         3\n",
      "         146       0.00      0.00      0.00         1\n",
      "         148       0.20      1.00      0.33         1\n",
      "         149       0.00      0.00      0.00         7\n",
      "         150       0.00      0.00      0.00         1\n",
      "         151       0.00      0.00      0.00         1\n",
      "         152       0.00      0.00      0.00         1\n",
      "         154       0.12      1.00      0.22         1\n",
      "         160       0.00      0.00      0.00         1\n",
      "         164       0.00      0.00      0.00         1\n",
      "         166       0.00      0.00      0.00         1\n",
      "         167       0.00      0.00      0.00         1\n",
      "         168       0.00      0.00      0.00         2\n",
      "         169       0.00      0.00      0.00         1\n",
      "         171       0.00      0.00      0.00         1\n",
      "         174       0.00      0.00      0.00         2\n",
      "         179       0.00      0.00      0.00         3\n",
      "         189       0.00      0.00      0.00         2\n",
      "         190       0.00      0.00      0.00         1\n",
      "         193       0.00      0.00      0.00         2\n",
      "         198       0.00      0.00      0.00         1\n",
      "         199       0.00      0.00      0.00         3\n",
      "         200       0.00      0.00      0.00         3\n",
      "         205       0.00      0.00      0.00         1\n",
      "         207       0.00      0.00      0.00         1\n",
      "         209       0.00      0.00      0.00         2\n",
      "         211       0.00      0.00      0.00         1\n",
      "         220       0.00      0.00      0.00         3\n",
      "         225       0.00      0.00      0.00         1\n",
      "         234       0.00      0.00      0.00         1\n",
      "         235       0.00      0.00      0.00         1\n",
      "         250       0.00      0.00      0.00         2\n",
      "         265       0.00      0.00      0.00         1\n",
      "         269       0.00      0.00      0.00         1\n",
      "         295       0.00      0.00      0.00         1\n",
      "         300       0.00      0.00      0.00         1\n",
      "         350       0.00      0.00      0.00         1\n",
      "         399       0.00      0.00      0.00         1\n",
      "         475       0.00      0.00      0.00         1\n",
      "\n",
      "    accuracy                           0.03       171\n",
      "   macro avg       0.01      0.03      0.01       171\n",
      "weighted avg       0.01      0.03      0.02       171\n",
      "\n"
     ]
    }
   ],
   "source": [
    "print(classification_report(y_test, y_KNN))"
   ]
  },
  {
   "cell_type": "code",
   "execution_count": 138,
   "metadata": {},
   "outputs": [
    {
     "data": {
      "text/html": [
       "<div>\n",
       "<style scoped>\n",
       "    .dataframe tbody tr th:only-of-type {\n",
       "        vertical-align: middle;\n",
       "    }\n",
       "\n",
       "    .dataframe tbody tr th {\n",
       "        vertical-align: top;\n",
       "    }\n",
       "\n",
       "    .dataframe thead th {\n",
       "        text-align: right;\n",
       "    }\n",
       "</style>\n",
       "<table border=\"1\" class=\"dataframe\">\n",
       "  <thead>\n",
       "    <tr style=\"text-align: right;\">\n",
       "      <th></th>\n",
       "      <th>LogReg</th>\n",
       "      <th>KNN</th>\n",
       "    </tr>\n",
       "  </thead>\n",
       "  <tbody>\n",
       "    <tr>\n",
       "      <th>Accuracy</th>\n",
       "      <td>0.035088</td>\n",
       "      <td>0.02924</td>\n",
       "    </tr>\n",
       "  </tbody>\n",
       "</table>\n",
       "</div>"
      ],
      "text/plain": [
       "            LogReg      KNN\n",
       "Accuracy  0.035088  0.02924"
      ]
     },
     "execution_count": 138,
     "metadata": {},
     "output_type": "execute_result"
    }
   ],
   "source": [
    "data = {\n",
    "    \"LogReg\" : [acc_LogReg],\n",
    "    \"KNN\" : [acc_KNN]\n",
    "}\n",
    "pd.DataFrame(data=data, index=['Accuracy'])"
   ]
  },
  {
   "cell_type": "markdown",
   "metadata": {},
   "source": [
    "### Conclusion\n",
    "\n",
    "The conclusions drawn from my project are:\n",
    "\n",
    "there are still a few electric cars in America that are rented right. the dominance of electric cars for rent is held by the Tesla brand. with the number 545 and the car model at most is Model 3 and the state that owns electric rental cars is located in the state of CA.\n",
    "\n",
    "from the comparison of the two models used the Logistic Regression Base model and the KNN model. the KNN model has higher accuracy than the Logistic Regression Base and I decided to use the KNN model to use it as a model on my dashboard\n"
   ]
  },
  {
   "cell_type": "code",
   "execution_count": null,
   "metadata": {},
   "outputs": [],
   "source": []
  },
  {
   "cell_type": "code",
   "execution_count": null,
   "metadata": {},
   "outputs": [],
   "source": []
  },
  {
   "cell_type": "markdown",
   "metadata": {},
   "source": [
    "### eksport model"
   ]
  },
  {
   "cell_type": "code",
   "execution_count": 129,
   "metadata": {},
   "outputs": [],
   "source": [
    "import joblib"
   ]
  },
  {
   "cell_type": "code",
   "execution_count": 130,
   "metadata": {},
   "outputs": [
    {
     "data": {
      "text/plain": [
       "['model']"
      ]
     },
     "execution_count": 130,
     "metadata": {},
     "output_type": "execute_result"
    }
   ],
   "source": [
    "joblib.dump(modelKNN, 'model')"
   ]
  },
  {
   "cell_type": "code",
   "execution_count": 131,
   "metadata": {},
   "outputs": [],
   "source": [
    "dfele.to_csv('ele.csv')"
   ]
  },
  {
   "cell_type": "code",
   "execution_count": 133,
   "metadata": {},
   "outputs": [
    {
     "data": {
      "text/html": [
       "<div>\n",
       "<style scoped>\n",
       "    .dataframe tbody tr th:only-of-type {\n",
       "        vertical-align: middle;\n",
       "    }\n",
       "\n",
       "    .dataframe tbody tr th {\n",
       "        vertical-align: top;\n",
       "    }\n",
       "\n",
       "    .dataframe thead th {\n",
       "        text-align: right;\n",
       "    }\n",
       "</style>\n",
       "<table border=\"1\" class=\"dataframe\">\n",
       "  <thead>\n",
       "    <tr style=\"text-align: right;\">\n",
       "      <th></th>\n",
       "      <th>rating</th>\n",
       "      <th>rate.daily</th>\n",
       "      <th>vehicle.year</th>\n",
       "      <th>location.state_AK</th>\n",
       "      <th>location.state_AL</th>\n",
       "      <th>location.state_AZ</th>\n",
       "      <th>location.state_CA</th>\n",
       "      <th>location.state_CO</th>\n",
       "      <th>location.state_CT</th>\n",
       "      <th>location.state_FL</th>\n",
       "      <th>...</th>\n",
       "      <th>vehicle.model_Model 3</th>\n",
       "      <th>vehicle.model_Model S</th>\n",
       "      <th>vehicle.model_Model X</th>\n",
       "      <th>vehicle.model_Model Y</th>\n",
       "      <th>vehicle.model_Niro</th>\n",
       "      <th>vehicle.model_Soul EV</th>\n",
       "      <th>vehicle.model_fortwo</th>\n",
       "      <th>vehicle.model_i3</th>\n",
       "      <th>vehicle.type_car</th>\n",
       "      <th>vehicle.type_suv</th>\n",
       "    </tr>\n",
       "  </thead>\n",
       "  <tbody>\n",
       "    <tr>\n",
       "      <th>0</th>\n",
       "      <td>5.00</td>\n",
       "      <td>135</td>\n",
       "      <td>2019</td>\n",
       "      <td>0</td>\n",
       "      <td>0</td>\n",
       "      <td>0</td>\n",
       "      <td>0</td>\n",
       "      <td>0</td>\n",
       "      <td>0</td>\n",
       "      <td>0</td>\n",
       "      <td>...</td>\n",
       "      <td>0</td>\n",
       "      <td>0</td>\n",
       "      <td>1</td>\n",
       "      <td>0</td>\n",
       "      <td>0</td>\n",
       "      <td>0</td>\n",
       "      <td>0</td>\n",
       "      <td>0</td>\n",
       "      <td>0</td>\n",
       "      <td>1</td>\n",
       "    </tr>\n",
       "    <tr>\n",
       "      <th>1</th>\n",
       "      <td>5.00</td>\n",
       "      <td>190</td>\n",
       "      <td>2018</td>\n",
       "      <td>0</td>\n",
       "      <td>0</td>\n",
       "      <td>0</td>\n",
       "      <td>0</td>\n",
       "      <td>0</td>\n",
       "      <td>0</td>\n",
       "      <td>0</td>\n",
       "      <td>...</td>\n",
       "      <td>0</td>\n",
       "      <td>0</td>\n",
       "      <td>1</td>\n",
       "      <td>0</td>\n",
       "      <td>0</td>\n",
       "      <td>0</td>\n",
       "      <td>0</td>\n",
       "      <td>0</td>\n",
       "      <td>0</td>\n",
       "      <td>1</td>\n",
       "    </tr>\n",
       "    <tr>\n",
       "      <th>22</th>\n",
       "      <td>5.00</td>\n",
       "      <td>171</td>\n",
       "      <td>2015</td>\n",
       "      <td>0</td>\n",
       "      <td>0</td>\n",
       "      <td>0</td>\n",
       "      <td>0</td>\n",
       "      <td>0</td>\n",
       "      <td>0</td>\n",
       "      <td>0</td>\n",
       "      <td>...</td>\n",
       "      <td>0</td>\n",
       "      <td>1</td>\n",
       "      <td>0</td>\n",
       "      <td>0</td>\n",
       "      <td>0</td>\n",
       "      <td>0</td>\n",
       "      <td>0</td>\n",
       "      <td>0</td>\n",
       "      <td>1</td>\n",
       "      <td>0</td>\n",
       "    </tr>\n",
       "    <tr>\n",
       "      <th>39</th>\n",
       "      <td>4.83</td>\n",
       "      <td>146</td>\n",
       "      <td>2020</td>\n",
       "      <td>0</td>\n",
       "      <td>0</td>\n",
       "      <td>0</td>\n",
       "      <td>0</td>\n",
       "      <td>0</td>\n",
       "      <td>0</td>\n",
       "      <td>0</td>\n",
       "      <td>...</td>\n",
       "      <td>1</td>\n",
       "      <td>0</td>\n",
       "      <td>0</td>\n",
       "      <td>0</td>\n",
       "      <td>0</td>\n",
       "      <td>0</td>\n",
       "      <td>0</td>\n",
       "      <td>0</td>\n",
       "      <td>1</td>\n",
       "      <td>0</td>\n",
       "    </tr>\n",
       "    <tr>\n",
       "      <th>49</th>\n",
       "      <td>5.00</td>\n",
       "      <td>134</td>\n",
       "      <td>2018</td>\n",
       "      <td>0</td>\n",
       "      <td>0</td>\n",
       "      <td>0</td>\n",
       "      <td>0</td>\n",
       "      <td>0</td>\n",
       "      <td>0</td>\n",
       "      <td>0</td>\n",
       "      <td>...</td>\n",
       "      <td>1</td>\n",
       "      <td>0</td>\n",
       "      <td>0</td>\n",
       "      <td>0</td>\n",
       "      <td>0</td>\n",
       "      <td>0</td>\n",
       "      <td>0</td>\n",
       "      <td>0</td>\n",
       "      <td>1</td>\n",
       "      <td>0</td>\n",
       "    </tr>\n",
       "    <tr>\n",
       "      <th>...</th>\n",
       "      <td>...</td>\n",
       "      <td>...</td>\n",
       "      <td>...</td>\n",
       "      <td>...</td>\n",
       "      <td>...</td>\n",
       "      <td>...</td>\n",
       "      <td>...</td>\n",
       "      <td>...</td>\n",
       "      <td>...</td>\n",
       "      <td>...</td>\n",
       "      <td>...</td>\n",
       "      <td>...</td>\n",
       "      <td>...</td>\n",
       "      <td>...</td>\n",
       "      <td>...</td>\n",
       "      <td>...</td>\n",
       "      <td>...</td>\n",
       "      <td>...</td>\n",
       "      <td>...</td>\n",
       "      <td>...</td>\n",
       "      <td>...</td>\n",
       "    </tr>\n",
       "    <tr>\n",
       "      <th>5723</th>\n",
       "      <td>5.00</td>\n",
       "      <td>150</td>\n",
       "      <td>2018</td>\n",
       "      <td>0</td>\n",
       "      <td>0</td>\n",
       "      <td>0</td>\n",
       "      <td>0</td>\n",
       "      <td>0</td>\n",
       "      <td>0</td>\n",
       "      <td>0</td>\n",
       "      <td>...</td>\n",
       "      <td>1</td>\n",
       "      <td>0</td>\n",
       "      <td>0</td>\n",
       "      <td>0</td>\n",
       "      <td>0</td>\n",
       "      <td>0</td>\n",
       "      <td>0</td>\n",
       "      <td>0</td>\n",
       "      <td>1</td>\n",
       "      <td>0</td>\n",
       "    </tr>\n",
       "    <tr>\n",
       "      <th>5735</th>\n",
       "      <td>5.00</td>\n",
       "      <td>82</td>\n",
       "      <td>2020</td>\n",
       "      <td>0</td>\n",
       "      <td>0</td>\n",
       "      <td>0</td>\n",
       "      <td>0</td>\n",
       "      <td>0</td>\n",
       "      <td>0</td>\n",
       "      <td>0</td>\n",
       "      <td>...</td>\n",
       "      <td>1</td>\n",
       "      <td>0</td>\n",
       "      <td>0</td>\n",
       "      <td>0</td>\n",
       "      <td>0</td>\n",
       "      <td>0</td>\n",
       "      <td>0</td>\n",
       "      <td>0</td>\n",
       "      <td>1</td>\n",
       "      <td>0</td>\n",
       "    </tr>\n",
       "    <tr>\n",
       "      <th>5780</th>\n",
       "      <td>4.88</td>\n",
       "      <td>85</td>\n",
       "      <td>2019</td>\n",
       "      <td>0</td>\n",
       "      <td>0</td>\n",
       "      <td>0</td>\n",
       "      <td>0</td>\n",
       "      <td>0</td>\n",
       "      <td>0</td>\n",
       "      <td>0</td>\n",
       "      <td>...</td>\n",
       "      <td>1</td>\n",
       "      <td>0</td>\n",
       "      <td>0</td>\n",
       "      <td>0</td>\n",
       "      <td>0</td>\n",
       "      <td>0</td>\n",
       "      <td>0</td>\n",
       "      <td>0</td>\n",
       "      <td>1</td>\n",
       "      <td>0</td>\n",
       "    </tr>\n",
       "    <tr>\n",
       "      <th>5785</th>\n",
       "      <td>5.00</td>\n",
       "      <td>50</td>\n",
       "      <td>2015</td>\n",
       "      <td>0</td>\n",
       "      <td>0</td>\n",
       "      <td>0</td>\n",
       "      <td>0</td>\n",
       "      <td>0</td>\n",
       "      <td>0</td>\n",
       "      <td>0</td>\n",
       "      <td>...</td>\n",
       "      <td>0</td>\n",
       "      <td>0</td>\n",
       "      <td>0</td>\n",
       "      <td>0</td>\n",
       "      <td>0</td>\n",
       "      <td>0</td>\n",
       "      <td>0</td>\n",
       "      <td>0</td>\n",
       "      <td>1</td>\n",
       "      <td>0</td>\n",
       "    </tr>\n",
       "    <tr>\n",
       "      <th>5825</th>\n",
       "      <td>5.00</td>\n",
       "      <td>53</td>\n",
       "      <td>2018</td>\n",
       "      <td>0</td>\n",
       "      <td>0</td>\n",
       "      <td>0</td>\n",
       "      <td>0</td>\n",
       "      <td>0</td>\n",
       "      <td>0</td>\n",
       "      <td>0</td>\n",
       "      <td>...</td>\n",
       "      <td>0</td>\n",
       "      <td>0</td>\n",
       "      <td>0</td>\n",
       "      <td>0</td>\n",
       "      <td>0</td>\n",
       "      <td>0</td>\n",
       "      <td>0</td>\n",
       "      <td>0</td>\n",
       "      <td>1</td>\n",
       "      <td>0</td>\n",
       "    </tr>\n",
       "  </tbody>\n",
       "</table>\n",
       "<p>569 rows × 64 columns</p>\n",
       "</div>"
      ],
      "text/plain": [
       "      rating  rate.daily  vehicle.year  location.state_AK  location.state_AL  \\\n",
       "0       5.00         135          2019                  0                  0   \n",
       "1       5.00         190          2018                  0                  0   \n",
       "22      5.00         171          2015                  0                  0   \n",
       "39      4.83         146          2020                  0                  0   \n",
       "49      5.00         134          2018                  0                  0   \n",
       "...      ...         ...           ...                ...                ...   \n",
       "5723    5.00         150          2018                  0                  0   \n",
       "5735    5.00          82          2020                  0                  0   \n",
       "5780    4.88          85          2019                  0                  0   \n",
       "5785    5.00          50          2015                  0                  0   \n",
       "5825    5.00          53          2018                  0                  0   \n",
       "\n",
       "      location.state_AZ  location.state_CA  location.state_CO  \\\n",
       "0                     0                  0                  0   \n",
       "1                     0                  0                  0   \n",
       "22                    0                  0                  0   \n",
       "39                    0                  0                  0   \n",
       "49                    0                  0                  0   \n",
       "...                 ...                ...                ...   \n",
       "5723                  0                  0                  0   \n",
       "5735                  0                  0                  0   \n",
       "5780                  0                  0                  0   \n",
       "5785                  0                  0                  0   \n",
       "5825                  0                  0                  0   \n",
       "\n",
       "      location.state_CT  location.state_FL  ...  vehicle.model_Model 3  \\\n",
       "0                     0                  0  ...                      0   \n",
       "1                     0                  0  ...                      0   \n",
       "22                    0                  0  ...                      0   \n",
       "39                    0                  0  ...                      1   \n",
       "49                    0                  0  ...                      1   \n",
       "...                 ...                ...  ...                    ...   \n",
       "5723                  0                  0  ...                      1   \n",
       "5735                  0                  0  ...                      1   \n",
       "5780                  0                  0  ...                      1   \n",
       "5785                  0                  0  ...                      0   \n",
       "5825                  0                  0  ...                      0   \n",
       "\n",
       "      vehicle.model_Model S  vehicle.model_Model X  vehicle.model_Model Y  \\\n",
       "0                         0                      1                      0   \n",
       "1                         0                      1                      0   \n",
       "22                        1                      0                      0   \n",
       "39                        0                      0                      0   \n",
       "49                        0                      0                      0   \n",
       "...                     ...                    ...                    ...   \n",
       "5723                      0                      0                      0   \n",
       "5735                      0                      0                      0   \n",
       "5780                      0                      0                      0   \n",
       "5785                      0                      0                      0   \n",
       "5825                      0                      0                      0   \n",
       "\n",
       "      vehicle.model_Niro  vehicle.model_Soul EV  vehicle.model_fortwo  \\\n",
       "0                      0                      0                     0   \n",
       "1                      0                      0                     0   \n",
       "22                     0                      0                     0   \n",
       "39                     0                      0                     0   \n",
       "49                     0                      0                     0   \n",
       "...                  ...                    ...                   ...   \n",
       "5723                   0                      0                     0   \n",
       "5735                   0                      0                     0   \n",
       "5780                   0                      0                     0   \n",
       "5785                   0                      0                     0   \n",
       "5825                   0                      0                     0   \n",
       "\n",
       "      vehicle.model_i3  vehicle.type_car  vehicle.type_suv  \n",
       "0                    0                 0                 1  \n",
       "1                    0                 0                 1  \n",
       "22                   0                 1                 0  \n",
       "39                   0                 1                 0  \n",
       "49                   0                 1                 0  \n",
       "...                ...               ...               ...  \n",
       "5723                 0                 1                 0  \n",
       "5735                 0                 1                 0  \n",
       "5780                 0                 1                 0  \n",
       "5785                 0                 1                 0  \n",
       "5825                 0                 1                 0  \n",
       "\n",
       "[569 rows x 64 columns]"
      ]
     },
     "execution_count": 133,
     "metadata": {},
     "output_type": "execute_result"
    }
   ],
   "source": [
    "dfele"
   ]
  },
  {
   "cell_type": "code",
   "execution_count": 134,
   "metadata": {},
   "outputs": [],
   "source": [
    "df1 = dfb[(df['fuelType'] == 'ELECTRIC')]"
   ]
  },
  {
   "cell_type": "code",
   "execution_count": 135,
   "metadata": {
    "scrolled": true
   },
   "outputs": [
    {
     "data": {
      "text/html": [
       "<div>\n",
       "<style scoped>\n",
       "    .dataframe tbody tr th:only-of-type {\n",
       "        vertical-align: middle;\n",
       "    }\n",
       "\n",
       "    .dataframe tbody tr th {\n",
       "        vertical-align: top;\n",
       "    }\n",
       "\n",
       "    .dataframe thead th {\n",
       "        text-align: right;\n",
       "    }\n",
       "</style>\n",
       "<table border=\"1\" class=\"dataframe\">\n",
       "  <thead>\n",
       "    <tr style=\"text-align: right;\">\n",
       "      <th></th>\n",
       "      <th>fuelType</th>\n",
       "      <th>rating</th>\n",
       "      <th>location.state</th>\n",
       "      <th>rate.daily</th>\n",
       "      <th>vehicle.make</th>\n",
       "      <th>vehicle.model</th>\n",
       "      <th>vehicle.type</th>\n",
       "      <th>vehicle.year</th>\n",
       "    </tr>\n",
       "  </thead>\n",
       "  <tbody>\n",
       "    <tr>\n",
       "      <th>0</th>\n",
       "      <td>ELECTRIC</td>\n",
       "      <td>5.00</td>\n",
       "      <td>WA</td>\n",
       "      <td>135</td>\n",
       "      <td>Tesla</td>\n",
       "      <td>Model X</td>\n",
       "      <td>suv</td>\n",
       "      <td>2019</td>\n",
       "    </tr>\n",
       "    <tr>\n",
       "      <th>1</th>\n",
       "      <td>ELECTRIC</td>\n",
       "      <td>5.00</td>\n",
       "      <td>NM</td>\n",
       "      <td>190</td>\n",
       "      <td>Tesla</td>\n",
       "      <td>Model X</td>\n",
       "      <td>suv</td>\n",
       "      <td>2018</td>\n",
       "    </tr>\n",
       "    <tr>\n",
       "      <th>22</th>\n",
       "      <td>ELECTRIC</td>\n",
       "      <td>5.00</td>\n",
       "      <td>NM</td>\n",
       "      <td>171</td>\n",
       "      <td>Tesla</td>\n",
       "      <td>Model S</td>\n",
       "      <td>car</td>\n",
       "      <td>2015</td>\n",
       "    </tr>\n",
       "    <tr>\n",
       "      <th>39</th>\n",
       "      <td>ELECTRIC</td>\n",
       "      <td>4.83</td>\n",
       "      <td>GA</td>\n",
       "      <td>146</td>\n",
       "      <td>Tesla</td>\n",
       "      <td>Model 3</td>\n",
       "      <td>car</td>\n",
       "      <td>2020</td>\n",
       "    </tr>\n",
       "    <tr>\n",
       "      <th>49</th>\n",
       "      <td>ELECTRIC</td>\n",
       "      <td>5.00</td>\n",
       "      <td>GA</td>\n",
       "      <td>134</td>\n",
       "      <td>Tesla</td>\n",
       "      <td>Model 3</td>\n",
       "      <td>car</td>\n",
       "      <td>2018</td>\n",
       "    </tr>\n",
       "    <tr>\n",
       "      <th>...</th>\n",
       "      <td>...</td>\n",
       "      <td>...</td>\n",
       "      <td>...</td>\n",
       "      <td>...</td>\n",
       "      <td>...</td>\n",
       "      <td>...</td>\n",
       "      <td>...</td>\n",
       "      <td>...</td>\n",
       "    </tr>\n",
       "    <tr>\n",
       "      <th>5723</th>\n",
       "      <td>ELECTRIC</td>\n",
       "      <td>5.00</td>\n",
       "      <td>HI</td>\n",
       "      <td>150</td>\n",
       "      <td>Tesla</td>\n",
       "      <td>Model 3</td>\n",
       "      <td>car</td>\n",
       "      <td>2018</td>\n",
       "    </tr>\n",
       "    <tr>\n",
       "      <th>5735</th>\n",
       "      <td>ELECTRIC</td>\n",
       "      <td>5.00</td>\n",
       "      <td>HI</td>\n",
       "      <td>82</td>\n",
       "      <td>Tesla</td>\n",
       "      <td>Model 3</td>\n",
       "      <td>car</td>\n",
       "      <td>2020</td>\n",
       "    </tr>\n",
       "    <tr>\n",
       "      <th>5780</th>\n",
       "      <td>ELECTRIC</td>\n",
       "      <td>4.88</td>\n",
       "      <td>HI</td>\n",
       "      <td>85</td>\n",
       "      <td>Tesla</td>\n",
       "      <td>Model 3</td>\n",
       "      <td>car</td>\n",
       "      <td>2019</td>\n",
       "    </tr>\n",
       "    <tr>\n",
       "      <th>5785</th>\n",
       "      <td>ELECTRIC</td>\n",
       "      <td>5.00</td>\n",
       "      <td>HI</td>\n",
       "      <td>50</td>\n",
       "      <td>Nissan</td>\n",
       "      <td>Leaf</td>\n",
       "      <td>car</td>\n",
       "      <td>2015</td>\n",
       "    </tr>\n",
       "    <tr>\n",
       "      <th>5825</th>\n",
       "      <td>ELECTRIC</td>\n",
       "      <td>5.00</td>\n",
       "      <td>HI</td>\n",
       "      <td>53</td>\n",
       "      <td>Nissan</td>\n",
       "      <td>Leaf</td>\n",
       "      <td>car</td>\n",
       "      <td>2018</td>\n",
       "    </tr>\n",
       "  </tbody>\n",
       "</table>\n",
       "<p>569 rows × 8 columns</p>\n",
       "</div>"
      ],
      "text/plain": [
       "      fuelType  rating location.state  rate.daily vehicle.make vehicle.model  \\\n",
       "0     ELECTRIC    5.00             WA         135        Tesla       Model X   \n",
       "1     ELECTRIC    5.00             NM         190        Tesla       Model X   \n",
       "22    ELECTRIC    5.00             NM         171        Tesla       Model S   \n",
       "39    ELECTRIC    4.83             GA         146        Tesla       Model 3   \n",
       "49    ELECTRIC    5.00             GA         134        Tesla       Model 3   \n",
       "...        ...     ...            ...         ...          ...           ...   \n",
       "5723  ELECTRIC    5.00             HI         150        Tesla       Model 3   \n",
       "5735  ELECTRIC    5.00             HI          82        Tesla       Model 3   \n",
       "5780  ELECTRIC    4.88             HI          85        Tesla       Model 3   \n",
       "5785  ELECTRIC    5.00             HI          50       Nissan          Leaf   \n",
       "5825  ELECTRIC    5.00             HI          53       Nissan          Leaf   \n",
       "\n",
       "     vehicle.type  vehicle.year  \n",
       "0             suv          2019  \n",
       "1             suv          2018  \n",
       "22            car          2015  \n",
       "39            car          2020  \n",
       "49            car          2018  \n",
       "...           ...           ...  \n",
       "5723          car          2018  \n",
       "5735          car          2020  \n",
       "5780          car          2019  \n",
       "5785          car          2015  \n",
       "5825          car          2018  \n",
       "\n",
       "[569 rows x 8 columns]"
      ]
     },
     "execution_count": 135,
     "metadata": {},
     "output_type": "execute_result"
    }
   ],
   "source": [
    "df1"
   ]
  },
  {
   "cell_type": "code",
   "execution_count": 136,
   "metadata": {},
   "outputs": [],
   "source": [
    "df1.drop(columns=['fuelType'], inplace=True)"
   ]
  },
  {
   "cell_type": "code",
   "execution_count": 137,
   "metadata": {},
   "outputs": [],
   "source": [
    "df1.to_csv('cek.csv')"
   ]
  },
  {
   "cell_type": "code",
   "execution_count": null,
   "metadata": {},
   "outputs": [],
   "source": []
  }
 ],
 "metadata": {
  "kernelspec": {
   "display_name": "Python 3",
   "language": "python",
   "name": "python3"
  },
  "language_info": {
   "codemirror_mode": {
    "name": "ipython",
    "version": 3
   },
   "file_extension": ".py",
   "mimetype": "text/x-python",
   "name": "python",
   "nbconvert_exporter": "python",
   "pygments_lexer": "ipython3",
   "version": "3.8.3"
  }
 },
 "nbformat": 4,
 "nbformat_minor": 4
}
